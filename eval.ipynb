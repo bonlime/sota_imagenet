{
 "cells": [
  {
   "cell_type": "raw",
   "metadata": {
    "ExecuteTime": {
     "start_time": "2021-07-03T06:54:42.595Z"
    }
   },
   "source": [
    "import tensorflow as tf"
   ]
  },
  {
   "cell_type": "code",
   "execution_count": 1,
   "metadata": {
    "ExecuteTime": {
     "end_time": "2021-07-15T09:48:53.946011Z",
     "start_time": "2021-07-15T09:48:53.915610Z"
    }
   },
   "outputs": [],
   "source": [
    "from IPython.core.display import display, HTML, Image\n",
    "display(HTML(\"<style>.container {width:100% !important;}</style>\"))\n",
    "\n",
    "import os\n",
    "os.environ[\"CUDA_DEVICE_ORDER\"]=\"PCI_BUS_ID\"   # see issue #152\n",
    "os.environ[\"CUDA_VISIBLE_DEVICES\"]=\"0\"\n",
    "\n",
    "# %config Completer.use_jedi=False\n",
    "\n",
    "%config IPCompleter.use_jedi = False\n",
    "%load_ext autoreload\n",
    "%autoreload 2"
   ]
  },
  {
   "cell_type": "code",
   "execution_count": 2,
   "metadata": {
    "ExecuteTime": {
     "end_time": "2021-07-15T07:22:12.905330Z",
     "start_time": "2021-07-15T07:22:11.034510Z"
    }
   },
   "outputs": [
    {
     "name": "stderr",
     "output_type": "stream",
     "text": [
      "2021-07-28 17:08:50.517 | WARNING  | pytorch_tools.modules:<module>:35 - Inplace ABN is not installed. Using ABN by default\n"
     ]
    }
   ],
   "source": [
    "import cv2\n",
    "import yaml\n",
    "import torch\n",
    "import numpy as np\n",
    "from pathlib import Path\n",
    "from omegaconf import OmegaConf\n",
    "import torchvision as tv\n",
    "from torchvision.utils import make_grid\n",
    "from ipywidgets import interact\n",
    "import matplotlib.pyplot as plt\n",
    "import torch.nn.functional as F\n",
    "import torch.nn as nn\n",
    "\n",
    "import pytorch_tools as pt\n",
    "from pytorch_tools.utils.misc import count_parameters\n",
    "\n",
    "from src.arg_parser import TrainLoaderConfig, ValLoaderConfig\n",
    "from src.dali_dataloader import DaliLoader\n",
    "from src.model import CModel\n",
    "# from src.angular_losses import SphereLinearLayer\n",
    "\n",
    "from torchvision.models import resnet34\n",
    "count = lambda x: pt.utils.misc.count_parameters(x)[0]"
   ]
  },
  {
   "cell_type": "markdown",
   "metadata": {},
   "source": [
    "# Misc"
   ]
  },
  {
   "cell_type": "code",
   "execution_count": 151,
   "metadata": {},
   "outputs": [
    {
     "name": "stdout",
     "output_type": "stream",
     "text": [
      "16.92 M params\n"
     ]
    }
   ],
   "source": [
    "path = \"logs/2021-07-24_nf-repvgg_fix-shuffle_stats_regnet-attn/10-18/\"\n",
    "# path = 'logs/2021-07-27_nf_conv-act_ortho/21-02/'\n",
    "# path = \"configs/hydra_exp/26.nf_conv-act_my-self-attn.yaml\"\n",
    "cfg = OmegaConf.load(path + '/config.yaml')\n",
    "cmodel = cmodel = CModel(cfg.model.layer_config, cfg.model.extra_kwargs)\n",
    "print(f\"{count(cmodel) / 1e6:.2f} M params\")"
   ]
  },
  {
   "cell_type": "code",
   "execution_count": 153,
   "metadata": {},
   "outputs": [],
   "source": [
    "sd = torch.load(path + \"/model.chpn\", map_location=lambda storage, loc: storage.cpu())[\"state_dict\"]\n",
    "cmodel.load_state_dict(sd)"
   ]
  },
  {
   "cell_type": "code",
   "execution_count": 145,
   "metadata": {},
   "outputs": [],
   "source": [
    "from src.callbacks import OrthoLoss"
   ]
  },
  {
   "cell_type": "code",
   "execution_count": 154,
   "metadata": {},
   "outputs": [
    {
     "data": {
      "text/plain": [
       "tensor(1506.5212, grad_fn=<AddBackward0>)"
      ]
     },
     "execution_count": 154,
     "metadata": {},
     "output_type": "execute_result"
    }
   ],
   "source": [
    "OrthoLoss(cmodel)()"
   ]
  },
  {
   "cell_type": "code",
   "execution_count": 100,
   "metadata": {},
   "outputs": [
    {
     "name": "stderr",
     "output_type": "stream",
     "text": [
      "Clipping input data to the valid range for imshow with RGB data ([0..1] for floats or [0..255] for integers).\n"
     ]
    },
    {
     "data": {
      "text/plain": [
       "<matplotlib.image.AxesImage at 0x1553e27f2640>"
      ]
     },
     "execution_count": 100,
     "metadata": {},
     "output_type": "execute_result"
    },
    {
     "data": {
      "image/png": "[encoded data removed]",
      "text/plain": [
       "<Figure size 1080x1440 with 1 Axes>"
      ]
     },
     "metadata": {
      "needs_background": "light"
     },
     "output_type": "display_data"
    }
   ],
   "source": [
    "cc = cmodel.layers[0].conv.weight.detach()\n",
    "plt.figure(figsize=(15, 20))\n",
    "plt.imshow(make_grid(cc, nrow=2).transpose(0, 2))"
   ]
  },
  {
   "cell_type": "code",
   "execution_count": 71,
   "metadata": {},
   "outputs": [
    {
     "ename": "TypeError",
     "evalue": "hstack(): argument 'tensors' (position 1) must be tuple of Tensors, not Parameter",
     "output_type": "error",
     "traceback": [
      "\u001b[0;31m---------------------------------------------------------------------------\u001b[0m",
      "\u001b[0;31mTypeError\u001b[0m                                 Traceback (most recent call last)",
      "\u001b[0;32m<ipython-input-71-d6ab79e60ae0>\u001b[0m in \u001b[0;36m<module>\u001b[0;34m\u001b[0m\n\u001b[0;32m----> 1\u001b[0;31m \u001b[0mtorch\u001b[0m\u001b[0;34m.\u001b[0m\u001b[0mhstack\u001b[0m\u001b[0;34m(\u001b[0m\u001b[0mcmodel\u001b[0m\u001b[0;34m.\u001b[0m\u001b[0mlayers\u001b[0m\u001b[0;34m[\u001b[0m\u001b[0;36m0\u001b[0m\u001b[0;34m]\u001b[0m\u001b[0;34m.\u001b[0m\u001b[0mconv\u001b[0m\u001b[0;34m.\u001b[0m\u001b[0mweight\u001b[0m\u001b[0;34m)\u001b[0m\u001b[0;34m\u001b[0m\u001b[0;34m\u001b[0m\u001b[0m\n\u001b[0m",
      "\u001b[0;31mTypeError\u001b[0m: hstack(): argument 'tensors' (position 1) must be tuple of Tensors, not Parameter"
     ]
    }
   ],
   "source": [
    "torch.hstack(torch.split(cmodel.layers[0].conv.weight)"
   ]
  },
  {
   "cell_type": "code",
   "execution_count": 70,
   "metadata": {},
   "outputs": [
    {
     "data": {
      "text/plain": [
       "torch.Size([16, 3, 3, 3])"
      ]
     },
     "execution_count": 70,
     "metadata": {},
     "output_type": "execute_result"
    }
   ],
   "source": [
    "cmodel.layers[0].conv.weight.shape."
   ]
  },
  {
   "cell_type": "code",
   "execution_count": 64,
   "metadata": {},
   "outputs": [
    {
     "data": {
      "text/plain": [
       "tensor(4.1598, grad_fn=<CopyBackwards>)"
      ]
     },
     "execution_count": 64,
     "metadata": {},
     "output_type": "execute_result"
    },
    {
     "data": {
      "image/png": "[encoded data removed]",
      "text/plain": [
       "<Figure size 720x720 with 2 Axes>"
      ]
     },
     "metadata": {
      "needs_background": "light"
     },
     "output_type": "display_data"
    }
   ],
   "source": [
    "cc = cmodel.layers[0].conv.weight\n",
    "mat = cc.view(cc.size(0), -1)\n",
    "corr = mat @ mat.T / (mat.norm(dim=-1).pow(2) + 1e-3) - torch.eye(mat.size(0))\n",
    "plt.figure(figsize=(10, 10))\n",
    "plt.imshow(corr.detach())\n",
    "plt.colorbar()\n",
    "corr.norm()"
   ]
  },
  {
   "cell_type": "code",
   "execution_count": null,
   "metadata": {},
   "outputs": [],
   "source": []
  },
  {
   "cell_type": "code",
   "execution_count": null,
   "metadata": {},
   "outputs": [],
   "source": []
  },
  {
   "cell_type": "code",
   "execution_count": 14,
   "metadata": {},
   "outputs": [
    {
     "data": {
      "text/plain": [
       "CModel(\n",
       "  (layers): ModuleList(\n",
       "    (0): ConvActBlock(\n",
       "      (res_downscale): BlurPool(channels=3)\n",
       "      (conv): Sequential(\n",
       "        (0): ParametrizedConv2d(\n",
       "          3, 16, kernel_size=(3, 3), stride=(2, 2), padding=(1, 1), bias=False\n",
       "          (parametrizations): ModuleDict(\n",
       "            (weight): ParametrizationList(\n",
       "              (0): _SpectralNorm()\n",
       "            )\n",
       "          )\n",
       "        )\n",
       "        (1): Affine(value=1.0, trainable=True)\n",
       "      )\n",
       "      (shuffle): Identity()\n",
       "      (act): Hardswish()\n",
       "      (attn): Identity()\n",
       "    )\n",
       "    (1): ConvActBlock(\n",
       "      (res_downscale): Identity()\n",
       "      (conv): Sequential(\n",
       "        (0): ParametrizedConv2d(\n",
       "          16, 32, kernel_size=(3, 3), stride=(1, 1), padding=(1, 1), bias=False\n",
       "          (parametrizations): ModuleDict(\n",
       "            (weight): ParametrizationList(\n",
       "              (0): _SpectralNorm()\n",
       "            )\n",
       "          )\n",
       "        )\n",
       "        (1): Affine(value=0.5, trainable=True)\n",
       "      )\n",
       "      (shuffle): Identity()\n",
       "      (act): Hardswish()\n",
       "      (attn): Identity()\n",
       "    )\n",
       "    (2): ConvActBlock(\n",
       "      (res_downscale): Identity()\n",
       "      (conv): Sequential(\n",
       "        (0): ParametrizedConv2d(\n",
       "          32, 64, kernel_size=(3, 3), stride=(1, 1), padding=(1, 1), bias=False\n",
       "          (parametrizations): ModuleDict(\n",
       "            (weight): ParametrizationList(\n",
       "              (0): _SpectralNorm()\n",
       "            )\n",
       "          )\n",
       "        )\n",
       "        (1): Affine(value=0.5, trainable=True)\n",
       "      )\n",
       "      (shuffle): Identity()\n",
       "      (act): Hardswish()\n",
       "      (attn): Identity()\n",
       "    )\n",
       "    (3): VarEMA()\n",
       "    (4): ConvActBlock(\n",
       "      (res_downscale): BlurPool(channels=64)\n",
       "      (conv): Sequential(\n",
       "        (0): ParametrizedConv2d(\n",
       "          64, 64, kernel_size=(3, 3), stride=(2, 2), padding=(1, 1), bias=False\n",
       "          (parametrizations): ModuleDict(\n",
       "            (weight): ParametrizationList(\n",
       "              (0): _SpectralNorm()\n",
       "            )\n",
       "          )\n",
       "        )\n",
       "        (1): Affine(value=0.10000000149011612, trainable=True)\n",
       "      )\n",
       "      (shuffle): Identity()\n",
       "      (act): Hardswish()\n",
       "      (attn): Identity()\n",
       "    )\n",
       "    (5): VarEMA()\n",
       "    (6): Sequential(\n",
       "      (0): ConvActBlock(\n",
       "        (res_downscale): Identity()\n",
       "        (conv): Sequential(\n",
       "          (0): ParametrizedConv2d(\n",
       "            64, 64, kernel_size=(3, 3), stride=(1, 1), padding=(1, 1), bias=False\n",
       "            (parametrizations): ModuleDict(\n",
       "              (weight): ParametrizationList(\n",
       "                (0): _SpectralNorm()\n",
       "              )\n",
       "            )\n",
       "          )\n",
       "          (1): Affine(value=0.10000000149011612, trainable=True)\n",
       "        )\n",
       "        (shuffle): Identity()\n",
       "        (act): Hardswish()\n",
       "        (attn): Identity()\n",
       "      )\n",
       "      (1): ConvActBlock(\n",
       "        (res_downscale): Identity()\n",
       "        (conv): Sequential(\n",
       "          (0): ParametrizedConv2d(\n",
       "            64, 64, kernel_size=(3, 3), stride=(1, 1), padding=(1, 1), bias=False\n",
       "            (parametrizations): ModuleDict(\n",
       "              (weight): ParametrizationList(\n",
       "                (0): _SpectralNorm()\n",
       "              )\n",
       "            )\n",
       "          )\n",
       "          (1): Affine(value=0.10000000149011612, trainable=True)\n",
       "        )\n",
       "        (shuffle): Identity()\n",
       "        (act): Hardswish()\n",
       "        (attn): Identity()\n",
       "      )\n",
       "      (2): ConvActBlock(\n",
       "        (res_downscale): Identity()\n",
       "        (conv): Sequential(\n",
       "          (0): ParametrizedConv2d(\n",
       "            64, 64, kernel_size=(3, 3), stride=(1, 1), padding=(1, 1), bias=False\n",
       "            (parametrizations): ModuleDict(\n",
       "              (weight): ParametrizationList(\n",
       "                (0): _SpectralNorm()\n",
       "              )\n",
       "            )\n",
       "          )\n",
       "          (1): Affine(value=0.10000000149011612, trainable=True)\n",
       "        )\n",
       "        (shuffle): Identity()\n",
       "        (act): Hardswish()\n",
       "        (attn): Identity()\n",
       "      )\n",
       "      (3): ConvActBlock(\n",
       "        (res_downscale): Identity()\n",
       "        (conv): Sequential(\n",
       "          (0): ParametrizedConv2d(\n",
       "            64, 64, kernel_size=(3, 3), stride=(1, 1), padding=(1, 1), bias=False\n",
       "            (parametrizations): ModuleDict(\n",
       "              (weight): ParametrizationList(\n",
       "                (0): _SpectralNorm()\n",
       "              )\n",
       "            )\n",
       "          )\n",
       "          (1): Affine(value=0.10000000149011612, trainable=True)\n",
       "        )\n",
       "        (shuffle): Identity()\n",
       "        (act): Hardswish()\n",
       "        (attn): Identity()\n",
       "      )\n",
       "    )\n",
       "    (7): VarEMA()\n",
       "    (8): ConvActBlock(\n",
       "      (res_downscale): BlurPool(channels=64)\n",
       "      (conv): Sequential(\n",
       "        (0): ParametrizedConv2d(\n",
       "          64, 128, kernel_size=(3, 3), stride=(2, 2), padding=(1, 1), bias=False\n",
       "          (parametrizations): ModuleDict(\n",
       "            (weight): ParametrizationList(\n",
       "              (0): _SpectralNorm()\n",
       "            )\n",
       "          )\n",
       "        )\n",
       "        (1): Affine(value=0.10000000149011612, trainable=True)\n",
       "      )\n",
       "      (shuffle): Identity()\n",
       "      (act): Hardswish()\n",
       "      (attn): Identity()\n",
       "    )\n",
       "    (9): VarEMA()\n",
       "    (10): Sequential(\n",
       "      (0): ConvActBlock(\n",
       "        (res_downscale): Identity()\n",
       "        (conv): Sequential(\n",
       "          (0): ParametrizedConv2d(\n",
       "            128, 128, kernel_size=(3, 3), stride=(1, 1), padding=(1, 1), groups=2, bias=False\n",
       "            (parametrizations): ModuleDict(\n",
       "              (weight): ParametrizationList(\n",
       "                (0): _SpectralNorm()\n",
       "              )\n",
       "            )\n",
       "          )\n",
       "          (1): Affine(value=0.10000000149011612, trainable=True)\n",
       "        )\n",
       "        (shuffle): ChannelShuffle(groups=2)\n",
       "        (act): Hardswish()\n",
       "        (attn): Identity()\n",
       "      )\n",
       "      (1): ConvActBlock(\n",
       "        (res_downscale): Identity()\n",
       "        (conv): Sequential(\n",
       "          (0): ParametrizedConv2d(\n",
       "            128, 128, kernel_size=(3, 3), stride=(1, 1), padding=(1, 1), groups=2, bias=False\n",
       "            (parametrizations): ModuleDict(\n",
       "              (weight): ParametrizationList(\n",
       "                (0): _SpectralNorm()\n",
       "              )\n",
       "            )\n",
       "          )\n",
       "          (1): Affine(value=0.10000000149011612, trainable=True)\n",
       "        )\n",
       "        (shuffle): ChannelShuffle(groups=2)\n",
       "        (act): Hardswish()\n",
       "        (attn): Identity()\n",
       "      )\n",
       "      (2): ConvActBlock(\n",
       "        (res_downscale): Identity()\n",
       "        (conv): Sequential(\n",
       "          (0): ParametrizedConv2d(\n",
       "            128, 128, kernel_size=(3, 3), stride=(1, 1), padding=(1, 1), groups=2, bias=False\n",
       "            (parametrizations): ModuleDict(\n",
       "              (weight): ParametrizationList(\n",
       "                (0): _SpectralNorm()\n",
       "              )\n",
       "            )\n",
       "          )\n",
       "          (1): Affine(value=0.10000000149011612, trainable=True)\n",
       "        )\n",
       "        (shuffle): ChannelShuffle(groups=2)\n",
       "        (act): Hardswish()\n",
       "        (attn): Identity()\n",
       "      )\n",
       "      (3): ConvActBlock(\n",
       "        (res_downscale): Identity()\n",
       "        (conv): Sequential(\n",
       "          (0): ParametrizedConv2d(\n",
       "            128, 128, kernel_size=(3, 3), stride=(1, 1), padding=(1, 1), groups=2, bias=False\n",
       "            (parametrizations): ModuleDict(\n",
       "              (weight): ParametrizationList(\n",
       "                (0): _SpectralNorm()\n",
       "              )\n",
       "            )\n",
       "          )\n",
       "          (1): Affine(value=0.10000000149011612, trainable=True)\n",
       "        )\n",
       "        (shuffle): ChannelShuffle(groups=2)\n",
       "        (act): Hardswish()\n",
       "        (attn): Identity()\n",
       "      )\n",
       "      (4): ConvActBlock(\n",
       "        (res_downscale): Identity()\n",
       "        (conv): Sequential(\n",
       "          (0): ParametrizedConv2d(\n",
       "            128, 128, kernel_size=(3, 3), stride=(1, 1), padding=(1, 1), groups=2, bias=False\n",
       "            (parametrizations): ModuleDict(\n",
       "              (weight): ParametrizationList(\n",
       "                (0): _SpectralNorm()\n",
       "              )\n",
       "            )\n",
       "          )\n",
       "          (1): Affine(value=0.10000000149011612, trainable=True)\n",
       "        )\n",
       "        (shuffle): ChannelShuffle(groups=2)\n",
       "        (act): Hardswish()\n",
       "        (attn): Identity()\n",
       "      )\n",
       "    )\n",
       "    (11): VarEMA()\n",
       "    (12): BlurPool(channels=128)\n",
       "    (13): VarEMA()\n",
       "    (14): NormFreeBlockTimm(\n",
       "      (block): Sequential(\n",
       "        (act1): Hardswish()\n",
       "        (conv1): Sequential(\n",
       "          (0): ParametrizedConv2d(\n",
       "            128, 384, kernel_size=(1, 1), stride=(1, 1), bias=False\n",
       "            (parametrizations): ModuleDict(\n",
       "              (weight): ParametrizationList(\n",
       "                (0): _SpectralNorm()\n",
       "              )\n",
       "            )\n",
       "          )\n",
       "          (1): Affine(value=1.0, trainable=True)\n",
       "        )\n",
       "        (act2): Hardswish()\n",
       "        (conv2): ParametrizedConv2d(\n",
       "          384, 384, kernel_size=(3, 3), stride=(1, 1), padding=(1, 1), groups=6, bias=False\n",
       "          (parametrizations): ModuleDict(\n",
       "            (weight): ParametrizationList(\n",
       "              (0): _SpectralNorm()\n",
       "            )\n",
       "          )\n",
       "        )\n",
       "        (act2b): Hardswish()\n",
       "        (conv2b): ParametrizedConv2d(\n",
       "          384, 384, kernel_size=(3, 3), stride=(1, 1), padding=(1, 1), groups=6, bias=False\n",
       "          (parametrizations): ModuleDict(\n",
       "            (weight): ParametrizationList(\n",
       "              (0): _SpectralNorm()\n",
       "            )\n",
       "          )\n",
       "        )\n",
       "        (attn1): Sequential(\n",
       "          (0): ECAModule(\n",
       "            (pool): FastGlobalAvgPool2d(flatten=False)\n",
       "            (conv): Conv1d(1, 1, kernel_size=(9,), stride=(1,), padding=(4,), bias=False)\n",
       "          )\n",
       "          (1): Affine(value=2.0, trainable=False)\n",
       "        )\n",
       "        (act3): Hardswish()\n",
       "        (conv3): Sequential(\n",
       "          (0): ParametrizedConv2d(\n",
       "            384, 768, kernel_size=(1, 1), stride=(1, 1), bias=False\n",
       "            (parametrizations): ModuleDict(\n",
       "              (weight): ParametrizationList(\n",
       "                (0): _SpectralNorm()\n",
       "              )\n",
       "            )\n",
       "          )\n",
       "          (1): Affine(value=0.20000000298023224, trainable=True)\n",
       "        )\n",
       "        (attn2): Identity()\n",
       "        (drop_path): DropConnect(keep_prob=1.00)\n",
       "      )\n",
       "    )\n",
       "    (15): Sequential(\n",
       "      (0): NormFreeBlockTimm(\n",
       "        (block): Sequential(\n",
       "          (act1): Hardswish()\n",
       "          (conv1): Sequential(\n",
       "            (0): ParametrizedConv2d(\n",
       "              768, 384, kernel_size=(1, 1), stride=(1, 1), bias=False\n",
       "              (parametrizations): ModuleDict(\n",
       "                (weight): ParametrizationList(\n",
       "                  (0): _SpectralNorm()\n",
       "                )\n",
       "              )\n",
       "            )\n",
       "            (1): Affine(value=1.0, trainable=True)\n",
       "          )\n",
       "          (act2): Hardswish()\n",
       "          (conv2): ParametrizedConv2d(\n",
       "            384, 384, kernel_size=(3, 3), stride=(1, 1), padding=(1, 1), groups=6, bias=False\n",
       "            (parametrizations): ModuleDict(\n",
       "              (weight): ParametrizationList(\n",
       "                (0): _SpectralNorm()\n",
       "              )\n",
       "            )\n",
       "          )\n",
       "          (act2b): Hardswish()\n",
       "          (conv2b): ParametrizedConv2d(\n",
       "            384, 384, kernel_size=(3, 3), stride=(1, 1), padding=(1, 1), groups=6, bias=False\n",
       "            (parametrizations): ModuleDict(\n",
       "              (weight): ParametrizationList(\n",
       "                (0): _SpectralNorm()\n",
       "              )\n",
       "            )\n",
       "          )\n",
       "          (attn1): Sequential(\n",
       "            (0): ECAModule(\n",
       "              (pool): FastGlobalAvgPool2d(flatten=False)\n",
       "              (conv): Conv1d(1, 1, kernel_size=(9,), stride=(1,), padding=(4,), bias=False)\n",
       "            )\n",
       "            (1): Affine(value=2.0, trainable=False)\n",
       "          )\n",
       "          (act3): Hardswish()\n",
       "          (conv3): Sequential(\n",
       "            (0): ParametrizedConv2d(\n",
       "              384, 768, kernel_size=(1, 1), stride=(1, 1), bias=False\n",
       "              (parametrizations): ModuleDict(\n",
       "                (weight): ParametrizationList(\n",
       "                  (0): _SpectralNorm()\n",
       "                )\n",
       "              )\n",
       "            )\n",
       "            (1): Affine(value=0.20000000298023224, trainable=True)\n",
       "          )\n",
       "          (attn2): Identity()\n",
       "          (drop_path): DropConnect(keep_prob=0.99)\n",
       "        )\n",
       "      )\n",
       "      (1): NormFreeBlockTimm(\n",
       "        (block): Sequential(\n",
       "          (act1): Hardswish()\n",
       "          (conv1): Sequential(\n",
       "            (0): ParametrizedConv2d(\n",
       "              768, 384, kernel_size=(1, 1), stride=(1, 1), bias=False\n",
       "              (parametrizations): ModuleDict(\n",
       "                (weight): ParametrizationList(\n",
       "                  (0): _SpectralNorm()\n",
       "                )\n",
       "              )\n",
       "            )\n",
       "            (1): Affine(value=1.0, trainable=True)\n",
       "          )\n",
       "          (act2): Hardswish()\n",
       "          (conv2): ParametrizedConv2d(\n",
       "            384, 384, kernel_size=(3, 3), stride=(1, 1), padding=(1, 1), groups=6, bias=False\n",
       "            (parametrizations): ModuleDict(\n",
       "              (weight): ParametrizationList(\n",
       "                (0): _SpectralNorm()\n",
       "              )\n",
       "            )\n",
       "          )\n",
       "          (act2b): Hardswish()\n",
       "          (conv2b): ParametrizedConv2d(\n",
       "            384, 384, kernel_size=(3, 3), stride=(1, 1), padding=(1, 1), groups=6, bias=False\n",
       "            (parametrizations): ModuleDict(\n",
       "              (weight): ParametrizationList(\n",
       "                (0): _SpectralNorm()\n",
       "              )\n",
       "            )\n",
       "          )\n",
       "          (attn1): Sequential(\n",
       "            (0): ECAModule(\n",
       "              (pool): FastGlobalAvgPool2d(flatten=False)\n",
       "              (conv): Conv1d(1, 1, kernel_size=(9,), stride=(1,), padding=(4,), bias=False)\n",
       "            )\n",
       "            (1): Affine(value=2.0, trainable=False)\n",
       "          )\n",
       "          (act3): Hardswish()\n",
       "          (conv3): Sequential(\n",
       "            (0): ParametrizedConv2d(\n",
       "              384, 768, kernel_size=(1, 1), stride=(1, 1), bias=False\n",
       "              (parametrizations): ModuleDict(\n",
       "                (weight): ParametrizationList(\n",
       "                  (0): _SpectralNorm()\n",
       "                )\n",
       "              )\n",
       "            )\n",
       "            (1): Affine(value=0.20000000298023224, trainable=True)\n",
       "          )\n",
       "          (attn2): Identity()\n",
       "          (drop_path): DropConnect(keep_prob=0.97)\n",
       "        )\n",
       "      )\n",
       "      (2): NormFreeBlockTimm(\n",
       "        (block): Sequential(\n",
       "          (act1): Hardswish()\n",
       "          (conv1): Sequential(\n",
       "            (0): ParametrizedConv2d(\n",
       "              768, 384, kernel_size=(1, 1), stride=(1, 1), bias=False\n",
       "              (parametrizations): ModuleDict(\n",
       "                (weight): ParametrizationList(\n",
       "                  (0): _SpectralNorm()\n",
       "                )\n",
       "              )\n",
       "            )\n",
       "            (1): Affine(value=1.0, trainable=True)\n",
       "          )\n",
       "          (act2): Hardswish()\n",
       "          (conv2): ParametrizedConv2d(\n",
       "            384, 384, kernel_size=(3, 3), stride=(1, 1), padding=(1, 1), groups=6, bias=False\n",
       "            (parametrizations): ModuleDict(\n",
       "              (weight): ParametrizationList(\n",
       "                (0): _SpectralNorm()\n",
       "              )\n",
       "            )\n",
       "          )\n",
       "          (act2b): Hardswish()\n",
       "          (conv2b): ParametrizedConv2d(\n",
       "            384, 384, kernel_size=(3, 3), stride=(1, 1), padding=(1, 1), groups=6, bias=False\n",
       "            (parametrizations): ModuleDict(\n",
       "              (weight): ParametrizationList(\n",
       "                (0): _SpectralNorm()\n",
       "              )\n",
       "            )\n",
       "          )\n",
       "          (attn1): Sequential(\n",
       "            (0): ECAModule(\n",
       "              (pool): FastGlobalAvgPool2d(flatten=False)\n",
       "              (conv): Conv1d(1, 1, kernel_size=(9,), stride=(1,), padding=(4,), bias=False)\n",
       "            )\n",
       "            (1): Affine(value=2.0, trainable=False)\n",
       "          )\n",
       "          (act3): Hardswish()\n",
       "          (conv3): Sequential(\n",
       "            (0): ParametrizedConv2d(\n",
       "              384, 768, kernel_size=(1, 1), stride=(1, 1), bias=False\n",
       "              (parametrizations): ModuleDict(\n",
       "                (weight): ParametrizationList(\n",
       "                  (0): _SpectralNorm()\n",
       "                )\n",
       "              )\n",
       "            )\n",
       "            (1): Affine(value=0.20000000298023224, trainable=True)\n",
       "          )\n",
       "          (attn2): Identity()\n",
       "          (drop_path): DropConnect(keep_prob=0.96)\n",
       "        )\n",
       "      )\n",
       "      (3): NormFreeBlockTimm(\n",
       "        (block): Sequential(\n",
       "          (act1): Hardswish()\n",
       "          (conv1): Sequential(\n",
       "            (0): ParametrizedConv2d(\n",
       "              768, 384, kernel_size=(1, 1), stride=(1, 1), bias=False\n",
       "              (parametrizations): ModuleDict(\n",
       "                (weight): ParametrizationList(\n",
       "                  (0): _SpectralNorm()\n",
       "                )\n",
       "              )\n",
       "            )\n",
       "            (1): Affine(value=1.0, trainable=True)\n",
       "          )\n",
       "          (act2): Hardswish()\n",
       "          (conv2): ParametrizedConv2d(\n",
       "            384, 384, kernel_size=(3, 3), stride=(1, 1), padding=(1, 1), groups=6, bias=False\n",
       "            (parametrizations): ModuleDict(\n",
       "              (weight): ParametrizationList(\n",
       "                (0): _SpectralNorm()\n",
       "              )\n",
       "            )\n",
       "          )\n",
       "          (act2b): Hardswish()\n",
       "          (conv2b): ParametrizedConv2d(\n",
       "            384, 384, kernel_size=(3, 3), stride=(1, 1), padding=(1, 1), groups=6, bias=False\n",
       "            (parametrizations): ModuleDict(\n",
       "              (weight): ParametrizationList(\n",
       "                (0): _SpectralNorm()\n",
       "              )\n",
       "            )\n",
       "          )\n",
       "          (attn1): Sequential(\n",
       "            (0): ECAModule(\n",
       "              (pool): FastGlobalAvgPool2d(flatten=False)\n",
       "              (conv): Conv1d(1, 1, kernel_size=(9,), stride=(1,), padding=(4,), bias=False)\n",
       "            )\n",
       "            (1): Affine(value=2.0, trainable=False)\n",
       "          )\n",
       "          (act3): Hardswish()\n",
       "          (conv3): Sequential(\n",
       "            (0): ParametrizedConv2d(\n",
       "              384, 768, kernel_size=(1, 1), stride=(1, 1), bias=False\n",
       "              (parametrizations): ModuleDict(\n",
       "                (weight): ParametrizationList(\n",
       "                  (0): _SpectralNorm()\n",
       "                )\n",
       "              )\n",
       "            )\n",
       "            (1): Affine(value=0.20000000298023224, trainable=True)\n",
       "          )\n",
       "          (attn2): Identity()\n",
       "          (drop_path): DropConnect(keep_prob=0.95)\n",
       "        )\n",
       "      )\n",
       "      (4): NormFreeBlockTimm(\n",
       "        (block): Sequential(\n",
       "          (act1): Hardswish()\n",
       "          (conv1): Sequential(\n",
       "            (0): ParametrizedConv2d(\n",
       "              768, 384, kernel_size=(1, 1), stride=(1, 1), bias=False\n",
       "              (parametrizations): ModuleDict(\n",
       "                (weight): ParametrizationList(\n",
       "                  (0): _SpectralNorm()\n",
       "                )\n",
       "              )\n",
       "            )\n",
       "            (1): Affine(value=1.0, trainable=True)\n",
       "          )\n",
       "          (act2): Hardswish()\n",
       "          (conv2): ParametrizedConv2d(\n",
       "            384, 384, kernel_size=(3, 3), stride=(1, 1), padding=(1, 1), groups=6, bias=False\n",
       "            (parametrizations): ModuleDict(\n",
       "              (weight): ParametrizationList(\n",
       "                (0): _SpectralNorm()\n",
       "              )\n",
       "            )\n",
       "          )\n",
       "          (act2b): Hardswish()\n",
       "          (conv2b): ParametrizedConv2d(\n",
       "            384, 384, kernel_size=(3, 3), stride=(1, 1), padding=(1, 1), groups=6, bias=False\n",
       "            (parametrizations): ModuleDict(\n",
       "              (weight): ParametrizationList(\n",
       "                (0): _SpectralNorm()\n",
       "              )\n",
       "            )\n",
       "          )\n",
       "          (attn1): Sequential(\n",
       "            (0): ECAModule(\n",
       "              (pool): FastGlobalAvgPool2d(flatten=False)\n",
       "              (conv): Conv1d(1, 1, kernel_size=(9,), stride=(1,), padding=(4,), bias=False)\n",
       "            )\n",
       "            (1): Affine(value=2.0, trainable=False)\n",
       "          )\n",
       "          (act3): Hardswish()\n",
       "          (conv3): Sequential(\n",
       "            (0): ParametrizedConv2d(\n",
       "              384, 768, kernel_size=(1, 1), stride=(1, 1), bias=False\n",
       "              (parametrizations): ModuleDict(\n",
       "                (weight): ParametrizationList(\n",
       "                  (0): _SpectralNorm()\n",
       "                )\n",
       "              )\n",
       "            )\n",
       "            (1): Affine(value=0.20000000298023224, trainable=True)\n",
       "          )\n",
       "          (attn2): Identity()\n",
       "          (drop_path): DropConnect(keep_prob=0.93)\n",
       "        )\n",
       "      )\n",
       "      (5): NormFreeBlockTimm(\n",
       "        (block): Sequential(\n",
       "          (act1): Hardswish()\n",
       "          (conv1): Sequential(\n",
       "            (0): ParametrizedConv2d(\n",
       "              768, 384, kernel_size=(1, 1), stride=(1, 1), bias=False\n",
       "              (parametrizations): ModuleDict(\n",
       "                (weight): ParametrizationList(\n",
       "                  (0): _SpectralNorm()\n",
       "                )\n",
       "              )\n",
       "            )\n",
       "            (1): Affine(value=1.0, trainable=True)\n",
       "          )\n",
       "          (act2): Hardswish()\n",
       "          (conv2): ParametrizedConv2d(\n",
       "            384, 384, kernel_size=(3, 3), stride=(1, 1), padding=(1, 1), groups=6, bias=False\n",
       "            (parametrizations): ModuleDict(\n",
       "              (weight): ParametrizationList(\n",
       "                (0): _SpectralNorm()\n",
       "              )\n",
       "            )\n",
       "          )\n",
       "          (act2b): Hardswish()\n",
       "          (conv2b): ParametrizedConv2d(\n",
       "            384, 384, kernel_size=(3, 3), stride=(1, 1), padding=(1, 1), groups=6, bias=False\n",
       "            (parametrizations): ModuleDict(\n",
       "              (weight): ParametrizationList(\n",
       "                (0): _SpectralNorm()\n",
       "              )\n",
       "            )\n",
       "          )\n",
       "          (attn1): Sequential(\n",
       "            (0): ECAModule(\n",
       "              (pool): FastGlobalAvgPool2d(flatten=False)\n",
       "              (conv): Conv1d(1, 1, kernel_size=(9,), stride=(1,), padding=(4,), bias=False)\n",
       "            )\n",
       "            (1): Affine(value=2.0, trainable=False)\n",
       "          )\n",
       "          (act3): Hardswish()\n",
       "          (conv3): Sequential(\n",
       "            (0): ParametrizedConv2d(\n",
       "              384, 768, kernel_size=(1, 1), stride=(1, 1), bias=False\n",
       "              (parametrizations): ModuleDict(\n",
       "                (weight): ParametrizationList(\n",
       "                  (0): _SpectralNorm()\n",
       "                )\n",
       "              )\n",
       "            )\n",
       "            (1): Affine(value=0.20000000298023224, trainable=True)\n",
       "          )\n",
       "          (attn2): Identity()\n",
       "          (drop_path): DropConnect(keep_prob=0.92)\n",
       "        )\n",
       "      )\n",
       "    )\n",
       "    (16): VarEMA()\n",
       "    (17): BlurPool(channels=768)\n",
       "    (18): VarEMA()\n",
       "    (19): Sequential(\n",
       "      (0): NormFreeBlockTimm(\n",
       "        (block): Sequential(\n",
       "          (act1): Hardswish()\n",
       "          (conv1): Sequential(\n",
       "            (0): ParametrizedConv2d(\n",
       "              768, 384, kernel_size=(1, 1), stride=(1, 1), bias=False\n",
       "              (parametrizations): ModuleDict(\n",
       "                (weight): ParametrizationList(\n",
       "                  (0): _SpectralNorm()\n",
       "                )\n",
       "              )\n",
       "            )\n",
       "            (1): Affine(value=1.0, trainable=True)\n",
       "          )\n",
       "          (act2): Hardswish()\n",
       "          (conv2): ParametrizedConv2d(\n",
       "            384, 384, kernel_size=(3, 3), stride=(1, 1), padding=(1, 1), groups=6, bias=False\n",
       "            (parametrizations): ModuleDict(\n",
       "              (weight): ParametrizationList(\n",
       "                (0): _SpectralNorm()\n",
       "              )\n",
       "            )\n",
       "          )\n",
       "          (act2b): Hardswish()\n",
       "          (conv2b): ParametrizedConv2d(\n",
       "            384, 384, kernel_size=(3, 3), stride=(1, 1), padding=(1, 1), groups=6, bias=False\n",
       "            (parametrizations): ModuleDict(\n",
       "              (weight): ParametrizationList(\n",
       "                (0): _SpectralNorm()\n",
       "              )\n",
       "            )\n",
       "          )\n",
       "          (attn1): Sequential(\n",
       "            (0): ECAModule(\n",
       "              (pool): FastGlobalAvgPool2d(flatten=False)\n",
       "              (conv): Conv1d(1, 1, kernel_size=(9,), stride=(1,), padding=(4,), bias=False)\n",
       "            )\n",
       "            (1): Affine(value=2.0, trainable=False)\n",
       "          )\n",
       "          (act3): Hardswish()\n",
       "          (conv3): Sequential(\n",
       "            (0): ParametrizedConv2d(\n",
       "              384, 768, kernel_size=(1, 1), stride=(1, 1), bias=False\n",
       "              (parametrizations): ModuleDict(\n",
       "                (weight): ParametrizationList(\n",
       "                  (0): _SpectralNorm()\n",
       "                )\n",
       "              )\n",
       "            )\n",
       "            (1): Affine(value=0.20000000298023224, trainable=True)\n",
       "          )\n",
       "          (attn2): Identity()\n",
       "          (drop_path): DropConnect(keep_prob=0.90)\n",
       "        )\n",
       "      )\n",
       "      (1): NormFreeBlockTimm(\n",
       "        (block): Sequential(\n",
       "          (act1): Hardswish()\n",
       "          (conv1): Sequential(\n",
       "            (0): ParametrizedConv2d(\n",
       "              768, 384, kernel_size=(1, 1), stride=(1, 1), bias=False\n",
       "              (parametrizations): ModuleDict(\n",
       "                (weight): ParametrizationList(\n",
       "                  (0): _SpectralNorm()\n",
       "                )\n",
       "              )\n",
       "            )\n",
       "            (1): Affine(value=1.0, trainable=True)\n",
       "          )\n",
       "          (act2): Hardswish()\n",
       "          (conv2): ParametrizedConv2d(\n",
       "            384, 384, kernel_size=(3, 3), stride=(1, 1), padding=(1, 1), groups=6, bias=False\n",
       "            (parametrizations): ModuleDict(\n",
       "              (weight): ParametrizationList(\n",
       "                (0): _SpectralNorm()\n",
       "              )\n",
       "            )\n",
       "          )\n",
       "          (act2b): Hardswish()\n",
       "          (conv2b): ParametrizedConv2d(\n",
       "            384, 384, kernel_size=(3, 3), stride=(1, 1), padding=(1, 1), groups=6, bias=False\n",
       "            (parametrizations): ModuleDict(\n",
       "              (weight): ParametrizationList(\n",
       "                (0): _SpectralNorm()\n",
       "              )\n",
       "            )\n",
       "          )\n",
       "          (attn1): Sequential(\n",
       "            (0): ECAModule(\n",
       "              (pool): FastGlobalAvgPool2d(flatten=False)\n",
       "              (conv): Conv1d(1, 1, kernel_size=(9,), stride=(1,), padding=(4,), bias=False)\n",
       "            )\n",
       "            (1): Affine(value=2.0, trainable=False)\n",
       "          )\n",
       "          (act3): Hardswish()\n",
       "          (conv3): Sequential(\n",
       "            (0): ParametrizedConv2d(\n",
       "              384, 768, kernel_size=(1, 1), stride=(1, 1), bias=False\n",
       "              (parametrizations): ModuleDict(\n",
       "                (weight): ParametrizationList(\n",
       "                  (0): _SpectralNorm()\n",
       "                )\n",
       "              )\n",
       "            )\n",
       "            (1): Affine(value=0.20000000298023224, trainable=True)\n",
       "          )\n",
       "          (attn2): Identity()\n",
       "          (drop_path): DropConnect(keep_prob=0.89)\n",
       "        )\n",
       "      )\n",
       "      (2): NormFreeBlockTimm(\n",
       "        (block): Sequential(\n",
       "          (act1): Hardswish()\n",
       "          (conv1): Sequential(\n",
       "            (0): ParametrizedConv2d(\n",
       "              768, 384, kernel_size=(1, 1), stride=(1, 1), bias=False\n",
       "              (parametrizations): ModuleDict(\n",
       "                (weight): ParametrizationList(\n",
       "                  (0): _SpectralNorm()\n",
       "                )\n",
       "              )\n",
       "            )\n",
       "            (1): Affine(value=1.0, trainable=True)\n",
       "          )\n",
       "          (act2): Hardswish()\n",
       "          (conv2): ParametrizedConv2d(\n",
       "            384, 384, kernel_size=(3, 3), stride=(1, 1), padding=(1, 1), groups=6, bias=False\n",
       "            (parametrizations): ModuleDict(\n",
       "              (weight): ParametrizationList(\n",
       "                (0): _SpectralNorm()\n",
       "              )\n",
       "            )\n",
       "          )\n",
       "          (act2b): Hardswish()\n",
       "          (conv2b): ParametrizedConv2d(\n",
       "            384, 384, kernel_size=(3, 3), stride=(1, 1), padding=(1, 1), groups=6, bias=False\n",
       "            (parametrizations): ModuleDict(\n",
       "              (weight): ParametrizationList(\n",
       "                (0): _SpectralNorm()\n",
       "              )\n",
       "            )\n",
       "          )\n",
       "          (attn1): Sequential(\n",
       "            (0): ECAModule(\n",
       "              (pool): FastGlobalAvgPool2d(flatten=False)\n",
       "              (conv): Conv1d(1, 1, kernel_size=(9,), stride=(1,), padding=(4,), bias=False)\n",
       "            )\n",
       "            (1): Affine(value=2.0, trainable=False)\n",
       "          )\n",
       "          (act3): Hardswish()\n",
       "          (conv3): Sequential(\n",
       "            (0): ParametrizedConv2d(\n",
       "              384, 768, kernel_size=(1, 1), stride=(1, 1), bias=False\n",
       "              (parametrizations): ModuleDict(\n",
       "                (weight): ParametrizationList(\n",
       "                  (0): _SpectralNorm()\n",
       "                )\n",
       "              )\n",
       "            )\n",
       "            (1): Affine(value=0.20000000298023224, trainable=True)\n",
       "          )\n",
       "          (attn2): Identity()\n",
       "          (drop_path): DropConnect(keep_prob=0.88)\n",
       "        )\n",
       "      )\n",
       "      (3): NormFreeBlockTimm(\n",
       "        (block): Sequential(\n",
       "          (act1): Hardswish()\n",
       "          (conv1): Sequential(\n",
       "            (0): ParametrizedConv2d(\n",
       "              768, 384, kernel_size=(1, 1), stride=(1, 1), bias=False\n",
       "              (parametrizations): ModuleDict(\n",
       "                (weight): ParametrizationList(\n",
       "                  (0): _SpectralNorm()\n",
       "                )\n",
       "              )\n",
       "            )\n",
       "            (1): Affine(value=1.0, trainable=True)\n",
       "          )\n",
       "          (act2): Hardswish()\n",
       "          (conv2): ParametrizedConv2d(\n",
       "            384, 384, kernel_size=(3, 3), stride=(1, 1), padding=(1, 1), groups=6, bias=False\n",
       "            (parametrizations): ModuleDict(\n",
       "              (weight): ParametrizationList(\n",
       "                (0): _SpectralNorm()\n",
       "              )\n",
       "            )\n",
       "          )\n",
       "          (act2b): Hardswish()\n",
       "          (conv2b): ParametrizedConv2d(\n",
       "            384, 384, kernel_size=(3, 3), stride=(1, 1), padding=(1, 1), groups=6, bias=False\n",
       "            (parametrizations): ModuleDict(\n",
       "              (weight): ParametrizationList(\n",
       "                (0): _SpectralNorm()\n",
       "              )\n",
       "            )\n",
       "          )\n",
       "          (attn1): Sequential(\n",
       "            (0): ECAModule(\n",
       "              (pool): FastGlobalAvgPool2d(flatten=False)\n",
       "              (conv): Conv1d(1, 1, kernel_size=(9,), stride=(1,), padding=(4,), bias=False)\n",
       "            )\n",
       "            (1): Affine(value=2.0, trainable=False)\n",
       "          )\n",
       "          (act3): Hardswish()\n",
       "          (conv3): Sequential(\n",
       "            (0): ParametrizedConv2d(\n",
       "              384, 768, kernel_size=(1, 1), stride=(1, 1), bias=False\n",
       "              (parametrizations): ModuleDict(\n",
       "                (weight): ParametrizationList(\n",
       "                  (0): _SpectralNorm()\n",
       "                )\n",
       "              )\n",
       "            )\n",
       "            (1): Affine(value=0.20000000298023224, trainable=True)\n",
       "          )\n",
       "          (attn2): Identity()\n",
       "          (drop_path): DropConnect(keep_prob=0.86)\n",
       "        )\n",
       "      )\n",
       "      (4): NormFreeBlockTimm(\n",
       "        (block): Sequential(\n",
       "          (act1): Hardswish()\n",
       "          (conv1): Sequential(\n",
       "            (0): ParametrizedConv2d(\n",
       "              768, 384, kernel_size=(1, 1), stride=(1, 1), bias=False\n",
       "              (parametrizations): ModuleDict(\n",
       "                (weight): ParametrizationList(\n",
       "                  (0): _SpectralNorm()\n",
       "                )\n",
       "              )\n",
       "            )\n",
       "            (1): Affine(value=1.0, trainable=True)\n",
       "          )\n",
       "          (act2): Hardswish()\n",
       "          (conv2): ParametrizedConv2d(\n",
       "            384, 384, kernel_size=(3, 3), stride=(1, 1), padding=(1, 1), groups=6, bias=False\n",
       "            (parametrizations): ModuleDict(\n",
       "              (weight): ParametrizationList(\n",
       "                (0): _SpectralNorm()\n",
       "              )\n",
       "            )\n",
       "          )\n",
       "          (act2b): Hardswish()\n",
       "          (conv2b): ParametrizedConv2d(\n",
       "            384, 384, kernel_size=(3, 3), stride=(1, 1), padding=(1, 1), groups=6, bias=False\n",
       "            (parametrizations): ModuleDict(\n",
       "              (weight): ParametrizationList(\n",
       "                (0): _SpectralNorm()\n",
       "              )\n",
       "            )\n",
       "          )\n",
       "          (attn1): Sequential(\n",
       "            (0): ECAModule(\n",
       "              (pool): FastGlobalAvgPool2d(flatten=False)\n",
       "              (conv): Conv1d(1, 1, kernel_size=(9,), stride=(1,), padding=(4,), bias=False)\n",
       "            )\n",
       "            (1): Affine(value=2.0, trainable=False)\n",
       "          )\n",
       "          (act3): Hardswish()\n",
       "          (conv3): Sequential(\n",
       "            (0): ParametrizedConv2d(\n",
       "              384, 768, kernel_size=(1, 1), stride=(1, 1), bias=False\n",
       "              (parametrizations): ModuleDict(\n",
       "                (weight): ParametrizationList(\n",
       "                  (0): _SpectralNorm()\n",
       "                )\n",
       "              )\n",
       "            )\n",
       "            (1): Affine(value=0.20000000298023224, trainable=True)\n",
       "          )\n",
       "          (attn2): Identity()\n",
       "          (drop_path): DropConnect(keep_prob=0.85)\n",
       "        )\n",
       "      )\n",
       "    )\n",
       "    (20): ParametrizedConv2d(\n",
       "      768, 2304, kernel_size=(1, 1), stride=(1, 1), bias=False\n",
       "      (parametrizations): ModuleDict(\n",
       "        (weight): ParametrizationList(\n",
       "          (0): _SpectralNorm()\n",
       "        )\n",
       "      )\n",
       "    )\n",
       "    (21): SiLU(inplace=True)\n",
       "    (22): FastGlobalAvgPool2d(flatten=True)\n",
       "    (23): Dropout(p=0.2, inplace=False)\n",
       "    (24): Linear(in_features=2304, out_features=1000, bias=True)\n",
       "  )\n",
       ")"
      ]
     },
     "execution_count": 14,
     "metadata": {},
     "output_type": "execute_result"
    }
   ],
   "source": [
    "cmodel"
   ]
  },
  {
   "cell_type": "code",
   "execution_count": 13,
   "metadata": {},
   "outputs": [
    {
     "data": {
      "text/plain": [
       "torch.Size([1, 1000])"
      ]
     },
     "execution_count": 13,
     "metadata": {},
     "output_type": "execute_result"
    }
   ],
   "source": [
    "cmodel(torch.rand(1, 3, 64, 64)).shape"
   ]
  },
  {
   "cell_type": "code",
   "execution_count": null,
   "metadata": {
    "ExecuteTime": {
     "end_time": "2021-07-13T09:46:39.551885Z",
     "start_time": "2021-07-13T09:46:39.422205Z"
    }
   },
   "outputs": [],
   "source": [
    "# sd = torch.load(\"/home/zakirov/repoz/sota_imagenet/logs/2021-07-02_cnet_no-dim-red_nov/10-37-30/model.chpn\")['state_dict']\n",
    "# my nfnet\n",
    "sd = torch.load(\"/home/zakirov/repoz/sota_imagenet/logs/2021-07-08_nf-cnet_more-heads/11-23/model.chpn\", map_location='cpu')['state_dict']\n",
    "# timm nfnet stem\n",
    "# sd = torch.load(\"/home/zakirov/repoz/sota_imagenet/logs/2021-07-08_eca-nfnet-l0_long-more-aug/11-06/model.chpn\", map_location='cpu')['state_dict']"
   ]
  },
  {
   "cell_type": "raw",
   "metadata": {
    "ExecuteTime": {
     "end_time": "2021-07-02T14:42:08.424353Z",
     "start_time": "2021-07-02T14:42:08.280382Z"
    }
   },
   "source": [
    "for n, p in sd.items():\n",
    "    if 'running' in n:\n",
    "        print(f\"{n:40s}: {p.abs().mean():4f}\")"
   ]
  },
  {
   "cell_type": "raw",
   "metadata": {
    "ExecuteTime": {
     "end_time": "2021-07-02T08:03:24.761692Z",
     "start_time": "2021-07-02T08:03:24.671077Z"
    }
   },
   "source": [
    "cmodel.load_state_dict(sd)"
   ]
  },
  {
   "cell_type": "code",
   "execution_count": null,
   "metadata": {
    "ExecuteTime": {
     "end_time": "2021-07-13T09:46:52.158232Z",
     "start_time": "2021-07-13T09:46:51.706700Z"
    }
   },
   "outputs": [],
   "source": [
    "ww = sd['layers.1.weight']\n",
    "ww2 = ww.view(64, 2, 2, 3, 3, 3).permute(0, 3, 4, 1, 5, 2).reshape(64, 3, 6, 6)\n",
    "grid = make_grid(ww2.mul(2)).permute(1, 2, 0)\n",
    "\n",
    "# grid = make_grid(sd['stem.conv1.weight'].mul(3)).permute(1, 2, 0)\n",
    "plt.figure(figsize=(10, 10))\n",
    "plt.imshow(grid)"
   ]
  },
  {
   "cell_type": "raw",
   "metadata": {
    "ExecuteTime": {
     "end_time": "2021-07-01T09:21:09.113693Z",
     "start_time": "2021-07-01T09:21:09.098643Z"
    }
   },
   "source": [
    "bmodel"
   ]
  },
  {
   "cell_type": "raw",
   "metadata": {
    "ExecuteTime": {
     "end_time": "2021-07-02T07:04:17.731238Z",
     "start_time": "2021-07-02T07:04:17.704205Z"
    }
   },
   "source": [
    "cmodel"
   ]
  },
  {
   "cell_type": "raw",
   "metadata": {
    "ExecuteTime": {
     "end_time": "2021-07-07T10:59:43.030343Z",
     "start_time": "2021-07-07T10:59:43.007247Z"
    }
   },
   "source": [
    "from copy import deepcopy\n",
    "\n",
    "GLOBAL_MEAN = []\n",
    "GLOBAL_STD = []\n",
    "\n",
    "def get_hook(name):\n",
    "    def hook(self, inp, out):\n",
    "        inp_mean = inp[0].mean(dim=(0, 2, 3)).pow(2).mean().sqrt().item()\n",
    "        out_mean = out.mean(dim=(0, 2, 3)).pow(2).mean().sqrt().item()\n",
    "        print(f\"{name:50} Std inp: {inp[0].std().item():6.3f} Std out: {out.std().item():6.3f}\",\n",
    "              f\"Mean sq inp: {inp_mean:.3f} Mean sq out: {out_mean:.3f}\")\n",
    "        GLOBAL_MEAN.append(inp_mean)\n",
    "        GLOBAL_MEAN.append(out_mean)\n",
    "        GLOBAL_STD.append(inp[0].std().item())\n",
    "        GLOBAL_STD.append(out.std().item())\n",
    "    return hook\n",
    "        \n",
    "def add_hooks(model):\n",
    "    for name, m in model.named_modules():\n",
    "        if not isinstance(m, torch.nn.Conv2d):\n",
    "            continue\n",
    "        if \"fc\" in name:\n",
    "            continue\n",
    "        m.register_forward_hook(get_hook(name))\n",
    "    return model"
   ]
  },
  {
   "cell_type": "raw",
   "metadata": {
    "ExecuteTime": {
     "end_time": "2021-07-07T10:59:45.959909Z",
     "start_time": "2021-07-07T10:59:45.937350Z"
    }
   },
   "source": [
    "# bmodel = bmodel.eval().requires_grad_(False) # .cuda()\n",
    "cmodel = cmodel.eval().requires_grad_(False) # .cuda()\n",
    "inp = torch.randn(2, 3, 256, 256) #.cuda()"
   ]
  },
  {
   "cell_type": "markdown",
   "metadata": {},
   "source": [
    "# Speed test"
   ]
  },
  {
   "cell_type": "raw",
   "metadata": {
    "ExecuteTime": {
     "end_time": "2021-07-07T07:26:30.017837Z",
     "start_time": "2021-07-07T07:26:29.120058Z"
    }
   },
   "source": [
    "from torch.utils import benchmark\n",
    "torch.cuda.benchmark=True"
   ]
  },
  {
   "cell_type": "raw",
   "metadata": {
    "ExecuteTime": {
     "end_time": "2021-07-07T07:28:58.194986Z",
     "start_time": "2021-07-07T07:28:57.798250Z"
    }
   },
   "source": [
    "chs = 128\n",
    "inp = torch.rand(32, chs, 112, 112)\n",
    "conv = nn.Conv2d(chs, chs, 3, 1, groups=1, bias=False)\n",
    "conv_dw = nn.Conv2d(chs, chs, 3, 1, groups=chs, bias=False)\n",
    "conv_gr2 = nn.Conv2d(chs, chs, 3, 1, groups=2, bias=False)\n",
    "conv_gr4 = nn.Conv2d(chs, chs, 3, 1, groups=4, bias=False)\n",
    "conv_gr8 = nn.Conv2d(chs, chs, 3, 1, groups=8, bias=False)\n",
    "conv_gr16 = nn.Conv2d(chs, chs, 3, 1, groups=16, bias=False)\n",
    "\n",
    "\n",
    "count(conv), count(conv_dw), count(conv_gr2), count(conv_gr4), count(conv_gr8), count(conv_gr16)"
   ]
  },
  {
   "cell_type": "raw",
   "metadata": {
    "ExecuteTime": {
     "end_time": "2021-07-07T07:28:58.276431Z",
     "start_time": "2021-07-07T07:28:58.196691Z"
    }
   },
   "source": [
    "inp, conv, conv_dw, conv_gr2, conv_gr4 = inp.cuda(), conv.cuda(), conv_dw.cuda(), conv_gr2.cuda(), conv_gr4.cuda()\n",
    "conv_gr8, conv_gr16 = conv_gr8.cuda(), conv_gr16.cuda()\n",
    "\n",
    "# inp, conv, conv_dw, conv_gr2, conv_gr4 = inp.half(), conv.half(), conv_dw.half(), conv_gr2.half(), conv_gr4.half()\n",
    "# conv_gr8, conv_gr16 = conv_gr8.half(), conv_gr16.half()"
   ]
  },
  {
   "cell_type": "raw",
   "metadata": {
    "ExecuteTime": {
     "end_time": "2021-07-07T07:29:07.947737Z",
     "start_time": "2021-07-07T07:28:59.112972Z"
    }
   },
   "source": [
    "all_res = []\n",
    "\n",
    "label = f\"Inp shape: {inp.shape}\"\n",
    "all_res.append(\n",
    "    benchmark.Timer(\n",
    "        stmt='conv(inp)',\n",
    "        globals={'inp': inp, 'conv': conv},\n",
    "        label=label,\n",
    "        sub_label=\"full conv\",\n",
    "        description='description',\n",
    "    ).blocked_autorange(min_run_time=1)\n",
    ")\n",
    "\n",
    "all_res.append(\n",
    "    benchmark.Timer(\n",
    "        stmt='conv(inp)',\n",
    "        globals={'inp': inp, 'conv': conv_dw},\n",
    "        label=label,\n",
    "        sub_label=\"dw conv\",\n",
    "        description='description',\n",
    "    ).blocked_autorange(min_run_time=1)\n",
    ")\n",
    "\n",
    "all_res.append(\n",
    "    benchmark.Timer(\n",
    "        stmt='conv(inp)',\n",
    "        globals={'inp': inp, 'conv': conv_gr2},\n",
    "        label=label,\n",
    "        sub_label=\"conv gr=2\",\n",
    "        description='description',\n",
    "    ).blocked_autorange(min_run_time=1)\n",
    ")\n",
    "\n",
    "all_res.append(\n",
    "    benchmark.Timer(\n",
    "        stmt='conv(inp)',\n",
    "        globals={'inp': inp, 'conv': conv_gr4},\n",
    "        label=label,\n",
    "        sub_label=\"conv gr=4\",\n",
    "        description='description',\n",
    "    ).blocked_autorange(min_run_time=1)\n",
    ")\n",
    "\n",
    "all_res.append(\n",
    "    benchmark.Timer(\n",
    "        stmt='conv(inp)',\n",
    "        globals={'inp': inp, 'conv': conv_gr8},\n",
    "        label=label,\n",
    "        sub_label=\"conv gr=8\",\n",
    "        description='description',\n",
    "    ).blocked_autorange(min_run_time=1)\n",
    ")\n",
    "\n",
    "all_res.append(\n",
    "    benchmark.Timer(\n",
    "        stmt='conv(inp)',\n",
    "        globals={'inp': inp, 'conv': conv_gr16},\n",
    "        label=label,\n",
    "        sub_label=\"conv gr=16\",\n",
    "        description='description',\n",
    "    ).blocked_autorange(min_run_time=1)\n",
    ")\n",
    "\n",
    "benchmark.Compare(all_res).print()"
   ]
  },
  {
   "cell_type": "raw",
   "metadata": {},
   "source": [
    "FP32\n",
    "[ Inp shape: torch.Size([32, 128, 112, 112]) ]\n",
    "                  |  description\n",
    "1 threads: ---------------------\n",
    "      full conv   |     4484.0  \n",
    "      dw conv     |      903.5  \n",
    "      conv gr=2   |     3377.1  \n",
    "      conv gr=4   |     2212.1  \n",
    "      conv gr=8   |     2178.7  \n",
    "      conv gr=16  |     2438.9  \n",
    "\n",
    "Times are in microseconds (us).\n",
    "\n",
    "FP16\n",
    "[ Inp shape: torch.Size([32, 128, 112, 112]) ]\n",
    "                  |  description\n",
    "1 threads: ---------------------\n",
    "      full conv   |     4180.7  \n",
    "      dw conv     |      336.5  \n",
    "      conv gr=2   |     3103.3  \n",
    "      conv gr=4   |    45744.1  \n",
    "      conv gr=8   |     2137.3  \n",
    "      conv gr=16  |     7541.3  \n",
    "\n",
    "Times are in microseconds (us).\n"
   ]
  },
  {
   "cell_type": "raw",
   "metadata": {},
   "source": [
    "по какой-то причине в fp32 оптимальное количество канало в группе это 32, но в fp16 32 очень медленно работает, поэтому останавлюсь на 64 (как и rwightman)"
   ]
  },
  {
   "cell_type": "raw",
   "metadata": {
    "ExecuteTime": {
     "end_time": "2021-07-02T07:05:09.453089Z",
     "start_time": "2021-07-02T07:05:09.419011Z"
    }
   },
   "source": [
    "bmodel_c = add_hooks(deepcopy(bmodel))\n"
   ]
  },
  {
   "cell_type": "code",
   "execution_count": null,
   "metadata": {
    "ExecuteTime": {
     "end_time": "2021-07-02T08:19:02.077640Z",
     "start_time": "2021-07-02T08:18:56.763824Z"
    }
   },
   "outputs": [],
   "source": [
    "cmodel = CModel(layer_config, extra_kwargs)\n",
    "pt.utils.misc.initialize(cmodel, gamma=1.71)\n",
    "for m in cmodel.modules():\n",
    "    if isinstance(m, torch.nn.Conv2d):\n",
    "        m.weight.data.copy_(pt.utils.misc.normalize_conv_weight(m.weight, gamma=1.4))\n",
    "cmodel_c = add_hooks(deepcopy(cmodel))\n",
    "out_c = cmodel_c(inp)\n",
    "out_c.mean(), out_c.std()"
   ]
  },
  {
   "cell_type": "code",
   "execution_count": null,
   "metadata": {
    "ExecuteTime": {
     "end_time": "2021-07-01T20:38:44.094709Z",
     "start_time": "2021-07-01T20:38:43.899818Z"
    }
   },
   "outputs": [],
   "source": [
    "pt.utils.misc.initialize(cmodel, gamma=1.72)"
   ]
  },
  {
   "cell_type": "code",
   "execution_count": null,
   "metadata": {
    "ExecuteTime": {
     "end_time": "2021-07-15T07:10:02.245381Z",
     "start_time": "2021-07-15T07:10:02.224211Z"
    }
   },
   "outputs": [],
   "source": [
    "import timm.models as t_models"
   ]
  },
  {
   "cell_type": "code",
   "execution_count": null,
   "metadata": {
    "ExecuteTime": {
     "end_time": "2021-07-15T07:10:10.493027Z",
     "start_time": "2021-07-15T07:10:10.148305Z"
    }
   },
   "outputs": [],
   "source": [
    "eca_nfn = t_models.nfnet.eca_nfnet_l0(drop_rate=0., drop_path_rate=0.1).eval().requires_grad_(False) #.cuda()"
   ]
  },
  {
   "cell_type": "code",
   "execution_count": null,
   "metadata": {
    "ExecuteTime": {
     "end_time": "2021-07-01T09:42:09.401078Z",
     "start_time": "2021-07-01T09:42:05.757163Z"
    }
   },
   "outputs": [],
   "source": [
    "t0 = benchmark.Timer(\n",
    "    stmt='model(inp)',\n",
    "    globals={'inp': inp, 'model': bmodel},\n",
    "    label='some label',\n",
    "    sub_label=f'BModel (old)',\n",
    "    description='description',\n",
    ").blocked_autorange(min_run_time=1)\n",
    "\n",
    "t1 = benchmark.Timer(\n",
    "    stmt='model(inp)',\n",
    "    globals={'inp': inp, 'model': cmodel},\n",
    "    label='some label',\n",
    "    sub_label=f'CModel (new)',\n",
    "    description='description',\n",
    ").blocked_autorange(min_run_time=1)\n",
    "\n",
    "benchmark.Compare([t0, t1]).print()"
   ]
  },
  {
   "cell_type": "markdown",
   "metadata": {},
   "source": [
    "# Loader"
   ]
  },
  {
   "cell_type": "code",
   "execution_count": 3,
   "metadata": {
    "ExecuteTime": {
     "end_time": "2021-06-24T13:27:01.171495Z",
     "start_time": "2021-06-24T13:26:58.190022Z"
    }
   },
   "outputs": [],
   "source": [
    "BS = 16\n",
    "NUM_WORKERS = 4\n",
    "# pipe = train_pipeline(batch_size=BS, num_threads=1, device_id=0)\n",
    "# pipe.build()\n"
   ]
  },
  {
   "cell_type": "code",
   "execution_count": null,
   "metadata": {
    "ExecuteTime": {
     "end_time": "2021-06-24T13:34:03.471145Z",
     "start_time": "2021-06-24T13:33:53.492080Z"
    }
   },
   "outputs": [],
   "source": [
    "cfg = TrainLoaderConfig(\n",
    "    batch_size=16,\n",
    "#     color_twist_prob=0.1,\n",
    "    gray_prob=0.3,\n",
    "#     re_prob=0.2,\n",
    "#     re_count=4,\n",
    "    use_tfrecords=True,\n",
    "    root_data_dir=Path('/gpfs/gpfs0/emil.zakirov/datasets/ImageNet_2012/raw-data')\n",
    ")\n",
    "\n",
    "# cfg = ValLoaderConfig(\n",
    "#     batch_size=8,\n",
    "#     use_tfrecords=True,\n",
    "#     root_data_dir=Path('/mnt/storage/datasets/ImageNet/raw-data/')\n",
    "# )\n",
    "loader = DaliLoader(cfg=cfg)\n",
    "batch = next(iter(loader))"
   ]
  },
  {
   "cell_type": "code",
   "execution_count": null,
   "metadata": {
    "ExecuteTime": {
     "end_time": "2021-06-24T13:33:22.738499Z",
     "start_time": "2021-06-24T13:33:20.022783Z"
    }
   },
   "outputs": [],
   "source": [
    "def show_batch(batch):\n",
    "    batch = make_grid(batch.cpu(), nrow=4).transpose(-1, -2).transpose(-1, -3).numpy()\n",
    "    batch = (batch * 0.2 + 0.5)    \n",
    "    plt.imshow(batch)\n",
    "\n",
    "plt.figure(figsize=(24, 12))\n",
    "show_batch(batch[0])"
   ]
  },
  {
   "cell_type": "code",
   "execution_count": null,
   "metadata": {},
   "outputs": [],
   "source": []
  },
  {
   "cell_type": "markdown",
   "metadata": {
    "heading_collapsed": true
   },
   "source": [
    "# Evaluate"
   ]
  },
  {
   "cell_type": "code",
   "execution_count": null,
   "metadata": {
    "ExecuteTime": {
     "end_time": "2020-12-28T13:06:54.241535Z",
     "start_time": "2020-12-28T13:06:49.778833Z"
    },
    "hidden": true
   },
   "outputs": [],
   "source": [
    "INP = torch.ones(2, 3, 224, 224).cuda()\n",
    "PRED = torch.ones(2, 1000).cuda()\n",
    "LOSS = pt.losses.CrossEntropyLoss().cuda()\n",
    "METRIC = [pt.metrics.Accuracy(), pt.metrics.Accuracy(5)]\n",
    "class Foo: # used to stack and then inspect all predictions\n",
    "    def __init__(self):\n",
    "        self.name = \"Foo\"\n",
    "    def __call__(self, *args, **kwargs):\n",
    "        return torch.tensor(0)\n",
    "    \n",
    "@torch.no_grad()\n",
    "def evaluate_model(model, size=224, rect=False, **kwargs):\n",
    "    \"\"\"Eval model on ImageNet validation dataset\"\"\"\n",
    "    BS = 25 if size >= 384 else 125\n",
    "    if rect:\n",
    "        val_loader = ValRectLoader(bs=BS, workers=12, **kwargs)\n",
    "    else:\n",
    "        val_loader = DaliLoader(False, bs=BS, sz=size, workers=12, **kwargs)\n",
    "    model = model.eval().cuda()\n",
    "    runner = pt.fit_wrapper.Runner(\n",
    "        model,\n",
    "        None,\n",
    "        LOSS,\n",
    "        callbacks=[\n",
    "            pt.fit_wrapper.callbacks.BatchMetrics(METRIC),\n",
    "            pt.fit_wrapper.callbacks.LoaderMetrics(Foo()),\n",
    "            pt.fit_wrapper.callbacks.ConsoleLogger(),\n",
    "        ],\n",
    "        use_fp16=True,\n",
    "    )\n",
    "    runner.callbacks.on_begin()\n",
    "    _, (acc1, acc5, foo) = runner.evaluate(val_loader)\n",
    "    print(f\"Acc@1: {acc1:.2f}. Acc@5: {acc5:.2f}\")\n",
    "    return acc1, acc5, runner"
   ]
  },
  {
   "cell_type": "code",
   "execution_count": null,
   "metadata": {
    "ExecuteTime": {
     "end_time": "2020-12-28T14:33:47.249522Z",
     "start_time": "2020-12-28T14:33:46.921268Z"
    },
    "hidden": true
   },
   "outputs": [],
   "source": [
    "# PATH = \"logs/exp48.GENet_no_dim_red_ctmx_20201031_180205/\"\n",
    "# PATH = \"logs/exp89.BNet_asoft_20201107_132233/\"\n",
    "PATH = \"logs/exp90.BNet_asoft_ctmx_20201109_095536//\"\n",
    "# PATH = \"logs/exp99.BNet_adacos_margin_res_20201225_112802/\"\n",
    "# PATH = \"logs/exp92.BNet_arcsoft_20201109_194344/\"\n",
    "# PATH = \"logs/exp92.BNet_arcsoft_64_20201110_211920/\"\n",
    "\n",
    "\n",
    "# PATH = \"/home/zakirov/exp55.GENet_no_dim_red_ctmx_ws_20201006_182419/\"\n",
    "# PATH = \"/home/zakirov/repoz/sota_imagenet/logs/exp56.GENet_no_dim_red_ctmx_ws_adam_20201007_072753/\"\n",
    "PATH = Path(PATH)\n",
    "model_config = yaml.load(open(PATH / \"config.yaml\"))\n",
    "model_config[\"model_params\"].pop(\"mobilenetv3_head\", None)\n",
    "model_config[\"model_params\"][\"head_type\"] = \"default\"\n",
    "model = pt.models.BNet(**model_config[\"model_params\"])\n",
    "model = model.eval().requires_grad_(False).cuda()\n",
    "# model = pt.modules.conv_to_ws_conv(model)\n",
    "model.last_linear.weight.shape"
   ]
  },
  {
   "cell_type": "code",
   "execution_count": null,
   "metadata": {
    "ExecuteTime": {
     "end_time": "2020-12-28T14:46:26.432352Z",
     "start_time": "2020-12-28T14:46:26.429005Z"
    },
    "hidden": true
   },
   "outputs": [],
   "source": [
    "ll = nn.Linear(100, 100, bias=False)"
   ]
  },
  {
   "cell_type": "code",
   "execution_count": null,
   "metadata": {
    "ExecuteTime": {
     "end_time": "2020-12-28T13:59:04.251995Z",
     "start_time": "2020-12-28T13:59:04.170305Z"
    },
    "hidden": true
   },
   "outputs": [],
   "source": [
    "sd = torch.load(PATH / \"model.chpn\")[\"state_dict\"]\n",
    "model.load_state_dict(sd, strict=False)"
   ]
  },
  {
   "cell_type": "code",
   "execution_count": null,
   "metadata": {
    "ExecuteTime": {
     "end_time": "2020-12-28T13:59:04.307755Z",
     "start_time": "2020-12-28T13:59:04.299078Z"
    },
    "hidden": true
   },
   "outputs": [],
   "source": [
    "sphere_linear = SphereLinearLayer(model.last_linear.weight.size(1), model.last_linear.weight.size(0)).requires_grad_(False)\n",
    "sphere_linear.load_state_dict(model.last_linear.state_dict(), strict=False)\n",
    "model.last_linear = sphere_linear"
   ]
  },
  {
   "cell_type": "raw",
   "metadata": {
    "ExecuteTime": {
     "end_time": "2020-11-19T16:03:18.428760Z",
     "start_time": "2020-11-19T16:03:18.416044Z"
    },
    "hidden": true
   },
   "source": [
    "def lunif(x, t=2):\n",
    "    sq_pdist = torch.pdist(x, p=2).pow(2)\n",
    "    return sq_pdist.mul(-t).exp().mean().log()\n",
    "- lunif(F.normalize(model.last_linear.weight))\n",
    "# lunif(torch.randn(1000, 128))"
   ]
  },
  {
   "cell_type": "raw",
   "metadata": {
    "ExecuteTime": {
     "end_time": "2020-10-26T17:19:13.498688Z",
     "start_time": "2020-10-26T17:19:13.494539Z"
    },
    "hidden": true
   },
   "source": [
    "# fix for old models\n",
    "model.last_linear.load_state_dict({\"weight\": sd[\"head.4.weight\"], \"bias\": sd[\"head.4.bias\"]})"
   ]
  },
  {
   "cell_type": "raw",
   "metadata": {
    "ExecuteTime": {
     "end_time": "2020-10-15T08:00:32.925263Z",
     "start_time": "2020-10-15T08:00:32.906433Z"
    },
    "hidden": true
   },
   "source": [
    "nov_norms = sorted([p.norm() for p in model.parameters()])"
   ]
  },
  {
   "cell_type": "raw",
   "metadata": {
    "ExecuteTime": {
     "end_time": "2020-10-15T08:00:34.306120Z",
     "start_time": "2020-10-15T08:00:34.088614Z"
    },
    "hidden": true
   },
   "source": [
    "plt.figure(figsize=(10, 10));\n",
    "# plt.plot(sgdp_norms[:110])\n",
    "# plt.plot(adamp_norms[:110])\n",
    "plt.plot(nov_norms[:110])\n",
    "plt.legend([\"SGDP\", \"AdamP\", \"Novograd\"]);\n",
    "plt.title(\"Sorted weights norm for model parameters\");"
   ]
  },
  {
   "cell_type": "raw",
   "metadata": {
    "ExecuteTime": {
     "end_time": "2020-11-04T13:23:15.672643Z",
     "start_time": "2020-11-04T13:23:15.667974Z"
    },
    "hidden": true
   },
   "source": [
    "@torch.no_grad()\n",
    "def make_ws(module):\n",
    "    module_output = module\n",
    "    # no WS for convs with groups != 1 as suggested in\n",
    "    # Understanding the Disharmony between Weight Normalization ... (https://arxiv.org/abs/1911.05920)\n",
    "    if isinstance(module, torch.nn.Conv2d) and module.groups == 1:\n",
    "        var, mean = torch.var_mean(module.weight, dim=[1, 2, 3], keepdim=True, unbiased=False)\n",
    "        module_output.weight.copy_((module.weight - mean) / torch.sqrt(var + 1e-5))\n",
    "        \n",
    "\n",
    "    for name, child in module.named_children():\n",
    "        module_output.add_module(name, make_ws(child))\n",
    "    del module\n",
    "    return module_output \n",
    "if model_config[\"weight_standardization\"]:\n",
    "    model = make_ws(model)"
   ]
  },
  {
   "cell_type": "code",
   "execution_count": null,
   "metadata": {
    "ExecuteTime": {
     "end_time": "2020-12-28T13:59:05.201088Z",
     "start_time": "2020-12-28T13:59:05.198654Z"
    },
    "hidden": true
   },
   "outputs": [],
   "source": [
    "# R-50 GN + WS Acc@1: 76.33. Acc@5: 93.34 \n",
    "# X-50-GN-WS Acc@1: 77.28. Acc@5: 93.61\n",
    "# R-101 GN + WS Acc@1: 77.85. Acc@5: 93.90\n",
    "# X-101-GN-WS Acc@1: 78.19. Acc@5: 93.98"
   ]
  },
  {
   "cell_type": "code",
   "execution_count": null,
   "metadata": {
    "ExecuteTime": {
     "end_time": "2020-12-28T13:59:05.970949Z",
     "start_time": "2020-12-28T13:59:05.327222Z"
    },
    "hidden": true
   },
   "outputs": [],
   "source": [
    "if (Path(\"val_features\") / f\"{PATH.name}_pred\").exists():\n",
    "    all_output = torch.load(f\"val_features/{Path(PATH).name}_pred\")\n",
    "    all_target = torch.load(f\"val_features/{Path(PATH).name}_true\")\n",
    "else:\n",
    "    # calculate features and save them\n",
    "    _, _, runn = evaluate_model(model, rect=True, resize_method=\"triang\")\n",
    "    all_target = torch.cat(runn.callbacks.callbacks[1].target).float()\n",
    "    all_output = torch.cat(runn.callbacks.callbacks[1].output, dim=0).float()\n",
    "    torch.save(all_output, f\"val_features/{Path(PATH).name}_pred\")\n",
    "    torch.save(all_target, f\"val_features/{Path(PATH).name}_true\")\n",
    "\n",
    "correct = all_output.argmax(dim=1).eq(all_target)\n",
    "print(f\"{correct.float().mean() * 100:.2f}\")\n",
    "\n",
    "# get embeddings by inverse of last weight matrix\n",
    "class_inverse = torch.pinverse(F.normalize(model.last_linear.weight))\n",
    "all_embeddings = all_output @ class_inverse.T"
   ]
  },
  {
   "cell_type": "code",
   "execution_count": null,
   "metadata": {
    "ExecuteTime": {
     "end_time": "2020-12-28T13:59:05.986451Z",
     "start_time": "2020-12-28T13:59:05.973269Z"
    },
    "hidden": true
   },
   "outputs": [],
   "source": [
    "batch_cos = all_output[:1000]\n",
    "batch_true = all_target[:1000]"
   ]
  },
  {
   "cell_type": "code",
   "execution_count": null,
   "metadata": {
    "ExecuteTime": {
     "end_time": "2020-12-28T13:57:51.658833Z",
     "start_time": "2020-12-28T13:57:51.645034Z"
    },
    "hidden": true
   },
   "outputs": [],
   "source": [
    "class_vectors = F.normalize(model.last_linear.weight)"
   ]
  },
  {
   "cell_type": "code",
   "execution_count": null,
   "metadata": {
    "ExecuteTime": {
     "end_time": "2020-12-28T13:06:59.708592Z",
     "start_time": "2020-12-28T13:06:59.599997Z"
    },
    "hidden": true
   },
   "outputs": [],
   "source": [
    "class_cos = (class_vectors @ class_vectors.T)\n",
    "class_cos_flat = torch.triu(class_cos, diagonal=1).flatten()\n",
    "class_cos_flat = class_cos_flat[class_cos_flat != 0].sort()[0].cpu()"
   ]
  },
  {
   "cell_type": "code",
   "execution_count": null,
   "metadata": {
    "ExecuteTime": {
     "end_time": "2020-12-28T13:07:00.642042Z",
     "start_time": "2020-12-28T13:07:00.627977Z"
    },
    "hidden": true
   },
   "outputs": [],
   "source": [
    "most_sim_val, mos_sim_index = torch.triu(class_cos, diagonal=1).max(-1)[0].topk(14)\n",
    "most_sim_val, mos_sim_index"
   ]
  },
  {
   "cell_type": "code",
   "execution_count": null,
   "metadata": {
    "ExecuteTime": {
     "end_time": "2020-11-19T15:57:38.167371Z",
     "start_time": "2020-11-19T15:57:38.136301Z"
    },
    "hidden": true
   },
   "outputs": [],
   "source": [
    "def lunif(x, t=2):\n",
    "    sq_pdist = torch.pdist(x, p=2).pow(2)\n",
    "    return sq_pdist.mul(-t).exp().mean().log()\n",
    "lunif(F.normalize(model.last_linear.weight).T)\n",
    "# lunif(torch.randn(1000, 128))"
   ]
  },
  {
   "cell_type": "raw",
   "metadata": {
    "ExecuteTime": {
     "end_time": "2020-11-19T13:14:26.288580Z",
     "start_time": "2020-11-19T13:14:26.277028Z"
    },
    "hidden": true
   },
   "source": [
    "mos_sim_index, torch.triu(class_cos, diagonal=1).topk(1, dim=-1)[1][mos_sim_index].flatten()"
   ]
  },
  {
   "cell_type": "raw",
   "metadata": {
    "ExecuteTime": {
     "end_time": "2020-11-19T13:23:17.154549Z",
     "start_time": "2020-11-19T13:23:16.948657Z"
    },
    "hidden": true
   },
   "source": [
    "plt.plot(class_cos_flat);"
   ]
  },
  {
   "cell_type": "code",
   "execution_count": null,
   "metadata": {
    "ExecuteTime": {
     "end_time": "2020-12-28T13:06:11.547567Z",
     "start_time": "2020-12-28T13:06:07.600276Z"
    },
    "hidden": true
   },
   "outputs": [],
   "source": [
    "# asoft 64\n",
    "all_cls_med = []\n",
    "for cls in range(1000):\n",
    "    cls_med = torch.acos(all_embeddings[all_target.eq(cls)] @ class_vectors[cls]).median()\n",
    "    all_cls_med.append(cls_med.item())\n",
    "plt.plot(sorted(all_cls_med));\n",
    "plt.show()\n",
    "plt.hist(all_cls_med, bins=20);\n",
    "np.mean(all_cls_med)"
   ]
  },
  {
   "cell_type": "code",
   "execution_count": null,
   "metadata": {
    "hidden": true
   },
   "outputs": [],
   "source": [
    "all_output.where()"
   ]
  },
  {
   "cell_type": "code",
   "execution_count": null,
   "metadata": {
    "hidden": true
   },
   "outputs": [],
   "source": [
    "torch.where()"
   ]
  },
  {
   "cell_type": "code",
   "execution_count": null,
   "metadata": {
    "ExecuteTime": {
     "end_time": "2020-12-28T13:55:44.247113Z",
     "start_time": "2020-12-28T13:55:43.930067Z"
    },
    "hidden": true
   },
   "outputs": [],
   "source": [
    "# pos_cos = all_output.gather(-1, index=all_target[..., None])\n",
    "pos_cos = all_output.max(-1)[0]\n",
    "pos_cos = torch.acos(pos_cos)\n",
    "corr_pos_cos = pos_cos[correct]\n",
    "incorr_pos_cos = pos_cos[~correct]\n",
    "plt.hist(corr_pos_cos.flatten().cpu(), bins=30, alpha=0.7);\n",
    "plt.hist(incorr_pos_cos.flatten().cpu(), bins=30, alpha=0.7);\n",
    "plt.legend([\"TP\", \"FP\"]);"
   ]
  },
  {
   "cell_type": "code",
   "execution_count": null,
   "metadata": {
    "ExecuteTime": {
     "end_time": "2020-12-28T13:07:04.052235Z",
     "start_time": "2020-12-28T13:07:03.766006Z"
    },
    "hidden": true
   },
   "outputs": [],
   "source": [
    "# pos_cos = all_output.gather(-1, index=all_target[..., None])\n",
    "pos_cos = all_output.max(-1)[0]\n",
    "# pos_cos = torch.acos(pos_cos)\n",
    "corr_pos_cos = pos_cos[correct]\n",
    "incorr_pos_cos = pos_cos[~correct]\n",
    "plt.hist(corr_pos_cos.flatten().cpu(), bins=30, alpha=0.7);\n",
    "plt.hist(incorr_pos_cos.flatten().cpu(), bins=30, alpha=0.7);\n",
    "plt.legend([\"TP\", \"FP\"]);"
   ]
  },
  {
   "cell_type": "code",
   "execution_count": null,
   "metadata": {
    "ExecuteTime": {
     "end_time": "2020-11-21T07:12:28.043073Z",
     "start_time": "2020-11-21T07:12:28.040066Z"
    },
    "hidden": true
   },
   "outputs": [],
   "source": [
    "torch.Tensor.scatter_add_?"
   ]
  },
  {
   "cell_type": "code",
   "execution_count": null,
   "metadata": {
    "ExecuteTime": {
     "end_time": "2020-11-21T07:14:14.788325Z",
     "start_time": "2020-11-21T07:14:14.784049Z"
    },
    "hidden": true
   },
   "outputs": [],
   "source": [
    "all_output[0, all_target[0].long()]"
   ]
  },
  {
   "cell_type": "code",
   "execution_count": null,
   "metadata": {
    "ExecuteTime": {
     "end_time": "2020-11-21T07:15:06.486656Z",
     "start_time": "2020-11-21T07:15:06.483189Z"
    },
    "hidden": true
   },
   "outputs": [],
   "source": [
    "1 + torch.tensor(10)"
   ]
  },
  {
   "cell_type": "code",
   "execution_count": null,
   "metadata": {
    "ExecuteTime": {
     "end_time": "2020-11-21T11:53:28.957515Z",
     "start_time": "2020-11-21T11:53:28.953894Z"
    },
    "hidden": true
   },
   "outputs": [],
   "source": [
    "cos = np.random.rand(100)\n",
    "np.median(cos) - np.cos(np.median(np.arccos(cos)))"
   ]
  },
  {
   "cell_type": "code",
   "execution_count": null,
   "metadata": {
    "ExecuteTime": {
     "end_time": "2020-11-21T11:08:13.931489Z",
     "start_time": "2020-11-21T11:08:13.927916Z"
    },
    "hidden": true
   },
   "outputs": [],
   "source": [
    "np.log(1512602)"
   ]
  },
  {
   "cell_type": "code",
   "execution_count": null,
   "metadata": {
    "ExecuteTime": {
     "end_time": "2020-11-21T07:16:07.594884Z",
     "start_time": "2020-11-21T07:16:07.541838Z"
    },
    "hidden": true
   },
   "outputs": [],
   "source": [
    "all_output.scatter_add(dim=1, index=all_target.long()[..., None], src=torch.tensor(-10.0).expand(50000, 1))"
   ]
  },
  {
   "cell_type": "code",
   "execution_count": null,
   "metadata": {
    "ExecuteTime": {
     "end_time": "2020-11-21T07:10:03.544122Z",
     "start_time": "2020-11-21T07:10:03.500597Z"
    },
    "hidden": true
   },
   "outputs": [],
   "source": [
    "all_output.argmax(-1)"
   ]
  },
  {
   "cell_type": "code",
   "execution_count": null,
   "metadata": {
    "ExecuteTime": {
     "end_time": "2020-11-20T13:23:53.221401Z",
     "start_time": "2020-11-20T13:23:53.217428Z"
    },
    "hidden": true
   },
   "outputs": [],
   "source": [
    "m = 0.35\n",
    "np.log(382433.9062) / (0.9 - m)"
   ]
  },
  {
   "cell_type": "code",
   "execution_count": null,
   "metadata": {
    "ExecuteTime": {
     "end_time": "2020-11-20T13:15:39.672736Z",
     "start_time": "2020-11-20T13:15:39.390347Z"
    },
    "hidden": true
   },
   "outputs": [],
   "source": [
    "s = 16\n",
    "oo = all_output.scatter(dim=1, index=all_target.long()[..., None], value=-1)\n",
    "oo.mul(16).exp().sum(-1).mean()"
   ]
  },
  {
   "cell_type": "code",
   "execution_count": null,
   "metadata": {
    "ExecuteTime": {
     "end_time": "2020-11-20T13:25:43.786266Z",
     "start_time": "2020-11-20T13:25:43.777679Z"
    },
    "hidden": true
   },
   "outputs": [],
   "source": [
    "m = 0.2\n",
    "np.log(np.e ** (s * (1 - m)) + 3e5) / s"
   ]
  },
  {
   "cell_type": "code",
   "execution_count": null,
   "metadata": {
    "ExecuteTime": {
     "end_time": "2020-11-20T13:14:09.020125Z",
     "start_time": "2020-11-20T13:14:08.899747Z"
    },
    "hidden": true
   },
   "outputs": [],
   "source": [
    "((all_output).mul(16).exp().sum(-1)).mean()"
   ]
  },
  {
   "cell_type": "code",
   "execution_count": null,
   "metadata": {
    "ExecuteTime": {
     "end_time": "2020-11-20T13:08:44.459679Z",
     "start_time": "2020-11-20T13:08:44.162679Z"
    },
    "hidden": true
   },
   "outputs": [],
   "source": [
    "((all_output - all_output.max(-1)[0][..., None]).mul(16).exp().sum(-1) - 1).mean()"
   ]
  },
  {
   "cell_type": "code",
   "execution_count": null,
   "metadata": {
    "ExecuteTime": {
     "end_time": "2020-12-24T16:18:51.631040Z",
     "start_time": "2020-12-24T16:18:51.123035Z"
    },
    "hidden": true
   },
   "outputs": [],
   "source": [
    "# pos_cos = all_output.gather(-1, index=all_target[..., None])\n",
    "pos_cos = all_output.max(-1)[0]\n",
    "pos_cos = torch.acos(pos_cos)\n",
    "corr_pos_cos = pos_cos[correct]\n",
    "incorr_pos_cos = pos_cos[~correct]\n",
    "plt.hist(corr_pos_cos.flatten().cpu(), bins=30, alpha=0.7);\n",
    "plt.hist(incorr_pos_cos.flatten().cpu(), bins=30, alpha=0.7);\n",
    "plt.legend([\"TP\", \"FP\"]);"
   ]
  },
  {
   "cell_type": "code",
   "execution_count": null,
   "metadata": {
    "ExecuteTime": {
     "end_time": "2020-11-19T13:14:30.720195Z",
     "start_time": "2020-11-19T13:14:30.350624Z"
    },
    "hidden": true
   },
   "outputs": [],
   "source": [
    "# pos_cos = all_output.gather(-1, index=all_target[..., None])\n",
    "pos_cos = all_output.max(-1)[0]\n",
    "pos_cos = torch.acos(pos_cos)\n",
    "corr_pos_cos = pos_cos[correct]\n",
    "incorr_pos_cos = pos_cos[~correct]\n",
    "plt.hist(corr_pos_cos.flatten().cpu(), bins=30, alpha=0.7);\n",
    "plt.hist(incorr_pos_cos.flatten().cpu(), bins=30, alpha=0.7);\n",
    "plt.legend([\"TP\", \"FP\"]);"
   ]
  },
  {
   "cell_type": "code",
   "execution_count": null,
   "metadata": {
    "ExecuteTime": {
     "end_time": "2020-12-28T14:00:45.036482Z",
     "start_time": "2020-12-28T14:00:42.828857Z"
    },
    "hidden": true
   },
   "outputs": [],
   "source": [
    "pos_cos = all_output.sort(-1, descending=True)[0][5:]\n",
    "pos_cos = torch.acos(pos_cos)\n",
    "plt.hist(pos_cos.flatten().cpu(), bins=30, alpha=0.7);"
   ]
  },
  {
   "cell_type": "code",
   "execution_count": null,
   "metadata": {
    "ExecuteTime": {
     "end_time": "2020-11-19T13:21:56.248728Z",
     "start_time": "2020-11-19T13:21:52.938648Z"
    },
    "hidden": true
   },
   "outputs": [],
   "source": [
    "pos_cos = all_output.sort(-1, descending=True)[0][5:]\n",
    "pos_cos = torch.acos(pos_cos)\n",
    "plt.hist(pos_cos.flatten().cpu(), bins=30, alpha=0.7);"
   ]
  },
  {
   "cell_type": "code",
   "execution_count": null,
   "metadata": {
    "ExecuteTime": {
     "end_time": "2020-12-28T14:00:24.711257Z",
     "start_time": "2020-12-28T14:00:24.428044Z"
    },
    "code_folding": [],
    "hidden": true
   },
   "outputs": [],
   "source": [
    "# pos_cos = all_output.gather(-1, index=all_target[..., None])\n",
    "pos_cos = all_output.max(-1)[0]\n",
    "pos_cos = torch.acos(pos_cos)\n",
    "corr_pos_cos = pos_cos[correct]\n",
    "incorr_pos_cos = pos_cos[~correct]\n",
    "plt.hist(corr_pos_cos.flatten().cpu(), bins=30, alpha=0.7);\n",
    "plt.hist(incorr_pos_cos.flatten().cpu(), bins=30, alpha=0.7);\n",
    "plt.legend([\"TP\", \"FP\"]);"
   ]
  },
  {
   "cell_type": "code",
   "execution_count": null,
   "metadata": {
    "ExecuteTime": {
     "end_time": "2020-12-28T13:58:52.552419Z",
     "start_time": "2020-12-28T13:58:52.219631Z"
    },
    "hidden": true
   },
   "outputs": [],
   "source": [
    "pos_cos = all_output.gather(-1, index=all_target[..., None].long())\n",
    "pos_cos = torch.acos(pos_cos.float())\n",
    "corr_pos_cos = pos_cos[correct]\n",
    "incorr_pos_cos = pos_cos[~correct]\n",
    "plt.hist(corr_pos_cos.flatten().cpu(), bins=30, alpha=0.7);\n",
    "plt.hist(incorr_pos_cos.flatten().cpu(), bins=30, alpha=0.7);\n",
    "plt.legend([\"TP\", \"FN\"]);\n",
    "print(f\"Median cos to positive: {pos_cos.median():.2f}. \\n95% percentile: {np.percentile(pos_cos, 95):.2f}\")"
   ]
  },
  {
   "cell_type": "code",
   "execution_count": null,
   "metadata": {
    "ExecuteTime": {
     "end_time": "2020-12-28T14:02:33.675076Z",
     "start_time": "2020-12-28T14:02:33.337819Z"
    },
    "hidden": true
   },
   "outputs": [],
   "source": [
    "pos_cos = all_output.gather(-1, index=all_target[..., None].long())\n",
    "pos_cos = torch.acos(pos_cos.float())\n",
    "corr_pos_cos = pos_cos[correct]\n",
    "incorr_pos_cos = pos_cos[~correct]\n",
    "plt.hist(corr_pos_cos.flatten().cpu(), bins=30, alpha=0.7);\n",
    "plt.hist(incorr_pos_cos.flatten().cpu(), bins=30, alpha=0.7);\n",
    "# plt.hist(pos_cos.flatten().cpu(), bins=60, alpha=0.7);\n",
    "plt.legend([\"TP\", \"FN\"]);\n",
    "print(f\"Median cos to positive: {pos_cos.median():.2f}. \\n95% percentile: {np.percentile(pos_cos, 95):.2f}\")"
   ]
  },
  {
   "cell_type": "code",
   "execution_count": null,
   "metadata": {
    "ExecuteTime": {
     "end_time": "2020-12-28T13:07:16.061633Z",
     "start_time": "2020-12-28T13:07:15.664988Z"
    },
    "hidden": true
   },
   "outputs": [],
   "source": [
    "pos_cos = all_output.gather(-1, index=all_target[..., None].long())\n",
    "pos_cos = torch.acos(pos_cos.float())\n",
    "corr_pos_cos = pos_cos[correct]\n",
    "incorr_pos_cos = pos_cos[~correct]\n",
    "plt.hist(corr_pos_cos.flatten().cpu(), bins=30, alpha=0.7);\n",
    "plt.hist(incorr_pos_cos.flatten().cpu(), bins=30, alpha=0.7);\n",
    "plt.legend([\"TP\", \"FN\"]);"
   ]
  },
  {
   "cell_type": "code",
   "execution_count": null,
   "metadata": {
    "ExecuteTime": {
     "end_time": "2020-11-13T17:47:38.754187Z",
     "start_time": "2020-11-13T17:47:38.445088Z"
    },
    "hidden": true
   },
   "outputs": [],
   "source": [
    "pos_cos = all_output.gather(-1, index=all_target[..., None])\n",
    "pos_cos = torch.acos(pos_cos.float())\n",
    "corr_pos_cos = pos_cos[correct]\n",
    "incorr_pos_cos = pos_cos[~correct]\n",
    "plt.hist(corr_pos_cos.flatten().cpu(), bins=30, alpha=0.7);\n",
    "plt.hist(incorr_pos_cos.flatten().cpu(), bins=30, alpha=0.7);\n",
    "plt.legend([\"TP\", \"FN\"]);"
   ]
  },
  {
   "cell_type": "code",
   "execution_count": null,
   "metadata": {
    "hidden": true
   },
   "outputs": [],
   "source": [
    "# plot distance to positive and si"
   ]
  },
  {
   "cell_type": "code",
   "execution_count": null,
   "metadata": {
    "hidden": true
   },
   "outputs": [],
   "source": []
  },
  {
   "cell_type": "raw",
   "metadata": {
    "ExecuteTime": {
     "end_time": "2020-11-13T17:29:49.792976Z",
     "start_time": "2020-11-13T17:29:49.735318Z"
    },
    "hidden": true
   },
   "source": [
    "misclassified = all_target[all_output.argmax(dim=1).eq(all_target)]\n",
    "worst_classes_cnt, worst_classes_idx = torch.bincount(misclassified).sort(descending=True)\n",
    "worst_classes_idx[500:510], worst_classes_cnt[500:510]"
   ]
  },
  {
   "cell_type": "code",
   "execution_count": null,
   "metadata": {
    "ExecuteTime": {
     "end_time": "2020-12-24T16:20:13.399442Z",
     "start_time": "2020-12-24T16:20:13.371474Z"
    },
    "hidden": true
   },
   "outputs": [],
   "source": [
    "batch_cos.norm(dim=0)"
   ]
  },
  {
   "cell_type": "code",
   "execution_count": null,
   "metadata": {
    "ExecuteTime": {
     "end_time": "2020-12-24T16:19:41.137918Z",
     "start_time": "2020-12-24T16:19:41.122573Z"
    },
    "hidden": true
   },
   "outputs": [],
   "source": [
    "o1.norm(dim=0)"
   ]
  },
  {
   "cell_type": "code",
   "execution_count": null,
   "metadata": {
    "ExecuteTime": {
     "end_time": "2020-12-24T16:19:00.847627Z",
     "start_time": "2020-12-24T16:18:59.103406Z"
    },
    "hidden": true
   },
   "outputs": [],
   "source": [
    "# best classes 364, 333, 986\n",
    "# not so good 963, 749, 162\n",
    "from sklearn.decomposition import PCA\n",
    "o1 = all_output[all_target.eq(963)]\n",
    "o2 = all_output[all_target.eq(749)]\n",
    "o3 = all_output[all_target.eq(986)]\n",
    "oo = torch.cat([o1, o2, o3], 0)\n",
    "\n",
    "pca_features = PCA(n_components=2).fit_transform(oo)\n",
    "pca_features_norm = torch.nn.functional.normalize(torch.from_numpy(pca_features))\n",
    "c = [1,] * 50 + [2,] * 50 + [3,] * 50\n",
    "fig, axes = plt.subplots(1, 2, figsize=(15, 5))\n",
    "axes[0].scatter(pca_features[:, 0], pca_features[:, 1], c=c)\n",
    "axes[1].scatter(pca_features_norm[:, 0], pca_features_norm[:, 1], c=c)\n",
    "axes[0].set_title(\"PCA of features for 3 random classes on Imagenet validation\")"
   ]
  },
  {
   "cell_type": "code",
   "execution_count": null,
   "metadata": {
    "ExecuteTime": {
     "end_time": "2020-11-04T13:27:16.876856Z",
     "start_time": "2020-11-04T13:27:16.781384Z"
    },
    "hidden": true
   },
   "outputs": [],
   "source": []
  },
  {
   "cell_type": "raw",
   "metadata": {
    "hidden": true
   },
   "source": [
    "+ Rect\n",
    "Sigm BNet Acc@1: 77.13. Acc@5: 93.11 --> Acc@1: 77.52. Acc@5: 93.37\n",
    "Sigm + Sigm Trick: Acc@1: 76.78. Acc@5: 93.13 -> Acc@1: 77.29. Acc@5: 93.34\n",
    "+ без ограничений AR -> Acc@1: 77.31. Acc@5: 93.37\n",
    "+ cubic interpolation -> Acc@1: 75.06. Acc@5: 92.07 (train resize != val resize поэтому плохо)"
   ]
  },
  {
   "cell_type": "markdown",
   "metadata": {},
   "source": [
    "# Model inspection"
   ]
  },
  {
   "cell_type": "code",
   "execution_count": null,
   "metadata": {
    "ExecuteTime": {
     "end_time": "2021-01-13T07:46:33.508794Z",
     "start_time": "2021-01-13T07:46:33.044859Z"
    }
   },
   "outputs": [],
   "source": [
    "model_se = pt.models.resnet50(attn_type=\"eca\")\n",
    "model_sevar3 = pt.models.resnet50(attn_type=\"eca9\")"
   ]
  },
  {
   "cell_type": "code",
   "execution_count": null,
   "metadata": {
    "ExecuteTime": {
     "end_time": "2021-01-10T17:55:46.275275Z",
     "start_time": "2021-01-10T17:55:46.266945Z"
    }
   },
   "outputs": [],
   "source": [
    "count_parameters(model_se)[0], count_parameters(model_sevar3)[0]"
   ]
  },
  {
   "cell_type": "code",
   "execution_count": null,
   "metadata": {},
   "outputs": [],
   "source": []
  },
  {
   "cell_type": "code",
   "execution_count": null,
   "metadata": {
    "ExecuteTime": {
     "end_time": "2021-06-29T06:32:09.477924Z",
     "start_time": "2021-06-29T06:32:09.457506Z"
    }
   },
   "outputs": [],
   "source": [
    "count(pt.modules.residual.SimpleBasicBlock(128, 128, 12))"
   ]
  },
  {
   "cell_type": "code",
   "execution_count": null,
   "metadata": {
    "ExecuteTime": {
     "end_time": "2021-06-29T06:35:30.784206Z",
     "start_time": "2021-06-29T06:35:30.769867Z"
    }
   },
   "outputs": [],
   "source": []
  },
  {
   "cell_type": "code",
   "execution_count": null,
   "metadata": {
    "ExecuteTime": {
     "end_time": "2021-06-29T06:44:45.567160Z",
     "start_time": "2021-06-29T06:44:45.548815Z"
    }
   },
   "outputs": [],
   "source": [
    "pt.modules.residual.FusedRepVGGBlock(32, 64, act=nn.ReLU)"
   ]
  },
  {
   "cell_type": "code",
   "execution_count": null,
   "metadata": {
    "ExecuteTime": {
     "end_time": "2021-07-01T09:38:54.304320Z",
     "start_time": "2021-07-01T09:38:54.123247Z"
    }
   },
   "outputs": [],
   "source": [
    "\"\"\"temporary place for experiments with model. when it's mature will move this to pytorch_tools\"\"\"\n",
    "\n",
    "\n",
    "\"\"\"c_model is model with Caffe-like explicit model constructor. While it makes configs\n",
    "slightly larger, it also allows much greater flexibility than using separate class for each model\n",
    "\"\"\"\n",
    "\n",
    "from dataclasses import dataclass, field\n",
    "from collections import OrderedDict\n",
    "from typing import List, Dict, Union\n",
    "\n",
    "\n",
    "import torch\n",
    "import torch.nn as nn\n",
    "\n",
    "import pytorch_tools as pt\n",
    "from pytorch_tools.utils.misc import listify\n",
    "from pytorch_tools.modules.residual import conv1x1, conv3x3, DropConnect\n",
    "from pytorch_tools.modules import ABN\n",
    "\n",
    "\n",
    "## some blocks defintion\n",
    "\n",
    "class PreBasicBlock(nn.Module):\n",
    "    \"\"\"BasicBlock with preactivatoin & without downsample support\"\"\"\n",
    "\n",
    "    def __init__(\n",
    "        self, in_chs, out_chs, mid_chs=None, groups=1, groups_width=None, norm_layer=ABN, norm_act=\"relu\", keep_prob=1,\n",
    "    ):\n",
    "        super().__init__()\n",
    "        self.in_chs = in_chs\n",
    "        self.out_chs = out_chs\n",
    "        mid_chs = mid_chs or out_chs\n",
    "        groups = in_chs // groups_width if groups_width else groups\n",
    "        layers = [\n",
    "            (\"bn1\", norm_layer(in_chs, activation=norm_act)),\n",
    "            (\"conv1\", conv3x3(in_chs, mid_chs)),\n",
    "            (\"bn2\", norm_layer(mid_chs, activation=norm_act)),\n",
    "            (\"conv2\", conv3x3(mid_chs, out_chs)),\n",
    "            (\"droppath\", DropConnect(keep_prob))\n",
    "        ]\n",
    "        self.block = nn.Sequential(OrderedDict(layers))\n",
    "\n",
    "    def forward(self, x):\n",
    "        out = self.block(x)\n",
    "        if self.in_chs == self.out_chs:\n",
    "            out += x\n",
    "        else:\n",
    "            out[:, :self.in_chs] += x\n",
    "        return out\n",
    "\n",
    "class PreInvertedResidual(nn.Module):\n",
    "    def __init__(\n",
    "        self,\n",
    "        in_chs,\n",
    "        out_chs,\n",
    "        mid_chs=None,\n",
    "        keep_prob=1,  # drop connect param\n",
    "        norm_layer=ABN,\n",
    "        norm_act=\"relu\",\n",
    "    ):\n",
    "        super().__init__()\n",
    "        self.in_chs = in_chs\n",
    "        self.out_chs = out_chs\n",
    "        mid_chs = mid_chs or out_chs\n",
    "        layers = [\n",
    "            (\"bn1\", norm_layer(in_chs, activation=norm_act)),\n",
    "            (\"conv_pw\", conv1x1(in_chs, mid_chs)),\n",
    "            (\"bn2\", norm_layer(mid_chs, activation=norm_act)),\n",
    "            (\"conv_dw\", conv3x3(mid_chs, mid_chs, groups=mid_chs)),\n",
    "            (\"bn3\", norm_layer(mid_chs, activation=norm_act)),\n",
    "            (\"conv_pw2\", conv1x1(mid_chs, out_chs)),\n",
    "            (\"droppath\", DropConnect(keep_prob))\n",
    "        ]\n",
    "        self.block = nn.Sequential(OrderedDict(layers))\n",
    "\n",
    "    def forward(self, x):\n",
    "        out = self.block(x)\n",
    "        if self.in_chs == self.out_chs:\n",
    "            out += x\n",
    "        else:\n",
    "            out[:, :self.in_chs] += x\n",
    "        return out\n",
    "\n",
    "\n",
    "@dataclass\n",
    "class LayerDef:\n",
    "    # previous layer\n",
    "    prev_l: int\n",
    "    # number of repeats\n",
    "    n: int\n",
    "    # which layer\n",
    "    module: Union[str, nn.Module]\n",
    "    args: List = field(default_factory=lambda: tuple())\n",
    "    kwargs: Dict = field(default_factory=lambda: dict())\n",
    "\n",
    "\n",
    "class Concat(nn.Module):\n",
    "    def forward(self, *args):\n",
    "        return torch.cat(*args, dim=1)\n",
    "\n",
    "\n",
    "class CModel(nn.Module):\n",
    "    \"\"\"\n",
    "    Args:\n",
    "        features_idx (List[int]):\n",
    "            from which layers to additionally save features\n",
    "    \"\"\"\n",
    "\n",
    "    def __init__(\n",
    "        self, layer_config: List[LayerDef], extra_kwargs: Dict[str, Dict] = None, features_idx: List[int] = None,\n",
    "    ):\n",
    "        super().__init__()\n",
    "        if not isinstance(layer_config[0], LayerDef):\n",
    "            layer_config = [LayerDef(*l) for l in layer_config]\n",
    "        if extra_kwargs is not None:\n",
    "            self._update_config_with_extra_params(layer_config, extra_kwargs)\n",
    "        layers, saved = self._parse_config(layer_config)\n",
    "        self.layers: nn.Module = layers\n",
    "        self.saved: List[int] = saved\n",
    "\n",
    "    @staticmethod\n",
    "    def _update_config_with_extra_params(layer_config: List[LayerDef], extra_kwargs: Dict[str, Dict]):\n",
    "        for l_name, l_kwargs in extra_kwargs.items():\n",
    "            for l in layer_config:\n",
    "                if l.module == l_name:\n",
    "                    l.kwargs.update(**l_kwargs)\n",
    "        \n",
    "    @staticmethod\n",
    "    def _parse_config(layer_config: List[LayerDef]):\n",
    "        saved = []\n",
    "        layers = []\n",
    "        for l_idx, l in enumerate(layer_config):\n",
    "            l.module = eval(l.module) if isinstance(l.module, str) else l.module  # eval strings\n",
    "            l.args = [eval(i) if isinstance(i, str) else i for i in listify(l.args)]\n",
    "            l.kwargs = {k: (eval(v) if isinstance(v, str) else v) for k, v in l.kwargs.items()}\n",
    "\n",
    "            if l.n == 1:\n",
    "                m = l.module(*l.args, **l.kwargs)\n",
    "            else:\n",
    "                m = nn.Sequential(*[l.module(*l.args, **l.kwargs) for _ in range(l.n)])\n",
    "            # add some information about from/idx\n",
    "            m.prev_l = l.prev_l\n",
    "            m.idx = l_idx\n",
    "            layers.append(m)\n",
    "            saved.extend(l_idx + i for i in listify(l.prev_l) if i != -1)\n",
    "\n",
    "        return nn.ModuleList(layers), saved\n",
    "\n",
    "    def forward(self, x):\n",
    "        saved_outputs: List[torch.Tensor] = []\n",
    "        for layer in self.layers:\n",
    "            if isinstance(layer.prev_l, list):\n",
    "                x = [x if j == -1 else saved_outputs[j] for j in layer.prev_l]\n",
    "            elif layer.prev_l != -1:\n",
    "                x = saved_outputs[layer.prev_l]\n",
    "\n",
    "            # print('inp', [i.shape for i in listify(x)])\n",
    "            # print('saved', [i.shape for i in listify(saved_outputs) if i is not None])\n",
    "\n",
    "            x = layer(x)\n",
    "            saved_outputs.append(x if layer.idx in self.saved else None)\n",
    "        return x\n",
    "\n",
    "    def load_state_dict(self, state_dict, **kwargs):\n",
    "        valid_weights = []\n",
    "        for key, value in state_dict.items():\n",
    "            if \"num_batches_tracked\" in key:\n",
    "                continue\n",
    "            valid_weights.append(value)\n",
    "        new_sd = OrderedDict(zip(self.state_dict().keys(), valid_weights))\n",
    "        super().load_state_dict(new_sd, **kwargs)\n",
    "\n",
    "\n",
    "# layer_config = [\n",
    "#     (-1, 1, 'pt.modules.SpaceToDepth', (2,)), # 0\n",
    "#     (-1, 1, 'conv3x3', (12, 32, 2)), # 1\n",
    "#     (-1, 1, conv3x3, (32, 64), {'bias': True}), # 2\n",
    "#     (-2, 1, conv3x3, (32, 96)), # 3\n",
    "#     ([-1, -2], 1, 'Concat'), # 4 [3, 2]\n",
    "# ]\n",
    "\n",
    "\n",
    "# fully matches R34\n",
    "# layer_config = [\n",
    "#     (-1, 1, 'Conv2d', (3, 64, 7, 2, 3), dict(bias=False)), # 0\n",
    "#     (-1, 1, 'ABN', 64),\n",
    "#     (-1, 1, 'torch.nn.MaxPool2d', (3, 2, 1)),\n",
    "#     (-1, 3, 'pt.modules.BasicBlock', (64, 64)),\n",
    "#     (-1, 1, 'pt.modules.BasicBlock', (64, 128), dict(stride=2, downsample='nn.Sequential(conv1x1(64, 128, 2), ABN(128))')),\n",
    "#     (-1, 3, 'pt.modules.BasicBlock', (128, 128)),\n",
    "#     (-1, 1, 'pt.modules.BasicBlock', (128, 256), dict(stride=2, downsample='nn.Sequential(conv1x1(128, 256, 2), ABN(256))')),\n",
    "#     (-1, 5, 'pt.modules.BasicBlock', (256, 256)),\n",
    "#     (-1, 1, 'pt.modules.BasicBlock', (256, 512), dict(stride=2, downsample='nn.Sequential(conv1x1(256, 512, 2), ABN(512))')),\n",
    "#     (-1, 2, 'pt.modules.BasicBlock', (512, 512)),\n",
    "#     (-1, 1, 'pt.modules.FastGlobalAvgPool2d', (), dict(flatten=True)),\n",
    "#     (-1, 1, 'nn.Dropout', 0.0),\n",
    "#     (-1, 1, 'nn.Linear', (512, 1000)),\n",
    "# ]\n",
    "\n",
    "# fully matches R50\n",
    "# layer_config = [\n",
    "#     (-1, 1, 'Conv2d', (3, 64, 7, 2, 3), dict(bias=False)), # 0\n",
    "#     (-1, 1, 'ABN', 64, dict(activation=\"'relu'\")),\n",
    "#     (-1, 1, 'torch.nn.MaxPool2d', (3, 2, 1)),\n",
    "#     (-1, 1, 'pt.modules.Bottleneck', (64, 64), dict(downsample=\"nn.Sequential(conv1x1(64, 256), ABN(256, activation='identity'))\")),\n",
    "#     (-1, 2, 'pt.modules.Bottleneck', (256, 64)),\n",
    "#     (-1, 1, 'pt.modules.Bottleneck', (256, 128), dict(stride=2, downsample=\"nn.Sequential(conv1x1(256, 512, 2), ABN(512, activation='identity'))\")),\n",
    "#     (-1, 3, 'pt.modules.Bottleneck', (512, 128)),\n",
    "#     (-1, 1, 'pt.modules.Bottleneck', (512, 256), dict(stride=2, downsample=\"nn.Sequential(conv1x1(512, 1024, 2), ABN(1024, activation='identity'))\")),\n",
    "#     (-1, 5, 'pt.modules.Bottleneck', (1024, 256)),\n",
    "#     (-1, 1, 'pt.modules.Bottleneck', (1024, 512), dict(stride=2, downsample=\"nn.Sequential(conv1x1(1024, 2048, 2), ABN(2048, activation='identity'))\")),\n",
    "#     (-1, 2, 'pt.modules.Bottleneck', (2048, 512)),\n",
    "#     (-1, 1, 'pt.modules.FastGlobalAvgPool2d', (), dict(flatten=True)),\n",
    "#     (-1, 1, 'nn.Dropout', (), dict(p=0, inplace=False)),\n",
    "#     (-1, 1, 'nn.Linear', (2048, 1000)),\n",
    "# ]\n",
    "\n",
    "layer_config = [\n",
    "    (-1, 1, \"pt.modules.SpaceToDepth\", 2),  # 0\n",
    "    (-1, 1, \"conv3x3\", (12, 32)),  # 0\n",
    "    (-1, 1, \"pt.modules.BlurPool\", 32),\n",
    "    (-1, 1, \"PreBasicBlock\", (32, 128)),\n",
    "    (-1, 1, \"pt.modules.BlurPool\", 128),\n",
    "    (-1, 1, \"PreBasicBlock\", (128, 192)),\n",
    "    (-1, 1, \"PreBasicBlock\", (192, 192)),\n",
    "    (-1, 1, \"pt.modules.BlurPool\", 192),\n",
    "    (-1, 1, \"PreInvertedResidual\", (192, 640)),\n",
    "    (-1, 5, \"PreInvertedResidual\", (640, 640)),\n",
    "    (-1, 1, \"pt.modules.BlurPool\", 640),\n",
    "    (-1, 1, \"PreInvertedResidual\", (640, 1024)),\n",
    "    (-1, 4, \"PreInvertedResidual\", (1024, 1024)),\n",
    "    (-1, 1, \"pt.modules.ABN\", 1024, dict(activation=\"'swish'\")),\n",
    "    (-1, 1, \"conv1x1\", (1024, 2560)),  # 0\n",
    "    (-1, 1, \"pt.modules.ABN\", 2560, dict(activation=\"'swish'\")),\n",
    "    (-1, 1, \"pt.modules.FastGlobalAvgPool2d\", (), dict(flatten=True)),\n",
    "#     (-1, 1, \"nn.Dropout\", (), dict(p=0, inplace=False)),\n",
    "    (-1, 1, \"nn.Linear\", (2560, 1000)),\n",
    "]\n",
    "\n",
    "\n",
    "model = CModel(layer_config, extra_kwargs={'PreBasicBlock': {'norm_act': \"'swish'\"}, 'PreInvertedResidual': {'norm_act': \"'swish'\"}}) #.cuda()\n",
    "# print(model)\n",
    "# inp = torch.rand(4, 3, 224, 224) #.cuda()\n",
    "\n",
    "# model(inp).shape\n",
    "\n",
    "model"
   ]
  },
  {
   "cell_type": "code",
   "execution_count": null,
   "metadata": {
    "ExecuteTime": {
     "end_time": "2021-07-01T09:39:04.357246Z",
     "start_time": "2021-07-01T09:39:04.346659Z"
    }
   },
   "outputs": [],
   "source": [
    "count(model)"
   ]
  },
  {
   "cell_type": "code",
   "execution_count": null,
   "metadata": {
    "ExecuteTime": {
     "end_time": "2021-06-29T10:54:06.876242Z",
     "start_time": "2021-06-29T10:54:06.163478Z"
    }
   },
   "outputs": [],
   "source": [
    "r34 = pt.models.resnet50(pretrained='imagenet').cuda()\n",
    "# r34"
   ]
  },
  {
   "cell_type": "code",
   "execution_count": null,
   "metadata": {
    "ExecuteTime": {
     "end_time": "2021-06-29T10:54:12.237917Z",
     "start_time": "2021-06-29T10:54:12.126012Z"
    }
   },
   "outputs": [],
   "source": [
    "sd = torch.load(\"/home/zakirov/repoz/sota_imagenet/logs/r50_baseline_2021-06-28/15-06-09/model.chpn\")['state_dict']\n",
    "r34.load_state_dict(sd)"
   ]
  },
  {
   "cell_type": "code",
   "execution_count": null,
   "metadata": {
    "ExecuteTime": {
     "end_time": "2021-06-29T10:54:15.010531Z",
     "start_time": "2021-06-29T10:54:14.971782Z"
    }
   },
   "outputs": [],
   "source": [
    "for n ,p in r34.named_parameters():\n",
    "    if 'bn' in n:\n",
    "        print(p.shape, round(p.mean().item(), 2))"
   ]
  },
  {
   "cell_type": "code",
   "execution_count": null,
   "metadata": {
    "ExecuteTime": {
     "end_time": "2021-06-29T10:54:10.412017Z",
     "start_time": "2021-06-29T10:54:10.367902Z"
    }
   },
   "outputs": [],
   "source": [
    "for n ,p in r34.named_parameters():\n",
    "    if 'bn' in n:\n",
    "        print(p.shape, round(p.mean().item(), 2))"
   ]
  },
  {
   "cell_type": "code",
   "execution_count": null,
   "metadata": {
    "ExecuteTime": {
     "end_time": "2021-06-29T10:50:12.138700Z",
     "start_time": "2021-06-29T10:50:12.121393Z"
    }
   },
   "outputs": [],
   "source": [
    "r34.last_linear.bias.max()"
   ]
  },
  {
   "cell_type": "code",
   "execution_count": null,
   "metadata": {
    "ExecuteTime": {
     "end_time": "2021-06-29T10:44:01.229447Z",
     "start_time": "2021-06-29T10:44:01.211794Z"
    }
   },
   "outputs": [],
   "source": [
    "model"
   ]
  },
  {
   "cell_type": "code",
   "execution_count": null,
   "metadata": {
    "ExecuteTime": {
     "end_time": "2021-06-29T07:21:50.476463Z",
     "start_time": "2021-06-29T07:21:44.845052Z"
    }
   },
   "outputs": [],
   "source": [
    "%timeit model(inp)"
   ]
  },
  {
   "cell_type": "code",
   "execution_count": null,
   "metadata": {
    "ExecuteTime": {
     "end_time": "2021-06-29T07:12:55.351509Z",
     "start_time": "2021-06-29T07:12:48.570736Z"
    }
   },
   "outputs": [],
   "source": [
    "%timeit r34(inp)"
   ]
  },
  {
   "cell_type": "code",
   "execution_count": null,
   "metadata": {
    "ExecuteTime": {
     "end_time": "2021-06-29T07:21:50.502338Z",
     "start_time": "2021-06-29T07:21:50.479335Z"
    }
   },
   "outputs": [],
   "source": [
    "count(model), count(r34)"
   ]
  },
  {
   "cell_type": "code",
   "execution_count": null,
   "metadata": {
    "ExecuteTime": {
     "end_time": "2021-06-29T06:29:27.277690Z",
     "start_time": "2021-06-29T06:29:27.249326Z"
    }
   },
   "outputs": [],
   "source": [
    "model.load_state_dict(r34.state_dict())"
   ]
  },
  {
   "cell_type": "code",
   "execution_count": null,
   "metadata": {
    "ExecuteTime": {
     "end_time": "2021-06-29T06:29:27.475796Z",
     "start_time": "2021-06-29T06:29:27.279348Z"
    }
   },
   "outputs": [],
   "source": [
    "# out1 = r34.features(inp)\n",
    "out1 = r34(inp)\n",
    "out2 = model(inp)\n",
    "assert torch.allclose(out1, out2)\n",
    "assert count(model) == count(r34)"
   ]
  },
  {
   "cell_type": "code",
   "execution_count": null,
   "metadata": {
    "ExecuteTime": {
     "end_time": "2021-06-29T06:29:27.493999Z",
     "start_time": "2021-06-29T06:29:27.477520Z"
    }
   },
   "outputs": [],
   "source": [
    "(out1 - out2).max()"
   ]
  },
  {
   "cell_type": "code",
   "execution_count": null,
   "metadata": {},
   "outputs": [],
   "source": []
  },
  {
   "cell_type": "code",
   "execution_count": null,
   "metadata": {
    "ExecuteTime": {
     "end_time": "2021-07-08T09:42:18.266140Z",
     "start_time": "2021-07-08T09:42:18.225507Z"
    }
   },
   "outputs": [],
   "source": [
    "from enum import Enum\n",
    "\n",
    "class Typ(Enum):\n",
    "    SOME = 'some'\n",
    "    ANY = 'any'\n",
    "    \n",
    "    \n",
    "Typ(Typ('any'))"
   ]
  },
  {
   "cell_type": "code",
   "execution_count": null,
   "metadata": {
    "ExecuteTime": {
     "end_time": "2021-07-09T17:54:38.965732Z",
     "start_time": "2021-07-09T17:54:30.689861Z"
    }
   },
   "outputs": [],
   "source": [
    "import os\n",
    "import shutil\n",
    "import subprocess as sp\n",
    "from loguru import logger\n",
    "\n",
    "\n",
    "def get_gminer(update: bool = False):\n",
    "    \"\"\"Download, extract and move gminer to current workdir\"\"\"\n",
    "    if not update and \"gm\" in os.listdir():\n",
    "        logger.info(\"Skip dowload. Pass `update` to get newer version\")\n",
    "        return\n",
    "    logger.info(\"Downloading gminer\")\n",
    "    cur_dir = os.getcwd()\n",
    "    shutil.rmtree(\"/tmp/gm/\", ignore_errors=True)\n",
    "    os.makedirs(\"/tmp/gm/\", exist_ok=True)\n",
    "    os.chdir(\"/tmp/gm/\")\n",
    "    RP = \"https://api.github.com/repos/develsoftware/GMinerRelease/releases/latest\"  # releases page\n",
    "    sp.run(f'curl -s {RP} | grep -E \"browser_download_url\" | grep linux64 | cut -d \\'\"\\' -f 4 | wget -qi -', shell=True)\n",
    "    sp.run(f\"tar xf gminer* && mv miner {cur_dir + '/gm'}\", shell=True)\n",
    "    os.chdir(cur_dir)\n",
    "           \n",
    "get_gminer()"
   ]
  },
  {
   "cell_type": "code",
   "execution_count": null,
   "metadata": {
    "ExecuteTime": {
     "end_time": "2021-07-09T20:46:15.019398Z",
     "start_time": "2021-07-09T20:46:15.016486Z"
    }
   },
   "outputs": [],
   "source": [
    "import arrow\n",
    "from typing import List, Tuple\n",
    "from datetimerange import DateTimeRange"
   ]
  },
  {
   "cell_type": "code",
   "execution_count": null,
   "metadata": {},
   "outputs": [],
   "source": []
  },
  {
   "cell_type": "code",
   "execution_count": null,
   "metadata": {
    "ExecuteTime": {
     "end_time": "2021-07-09T20:37:43.333979Z",
     "start_time": "2021-07-09T20:37:43.329571Z"
    }
   },
   "outputs": [],
   "source": [
    "arrow.get('Mon', 'ddd').isoweekday()"
   ]
  },
  {
   "cell_type": "code",
   "execution_count": null,
   "metadata": {
    "ExecuteTime": {
     "end_time": "2021-07-09T20:42:00.782189Z",
     "start_time": "2021-07-09T20:42:00.757573Z"
    }
   },
   "outputs": [],
   "source": [
    "def str_to_weekday(day: str) -> int:\n",
    "    return arrow.get(day, 'ddd').isoweekday()\n",
    "\n",
    "def true_now() -> arrow.Arrow:\n",
    "    # some machines have wrong timezone. get true time as UTC + Moscow offset\n",
    "    return arrow.utcnow().shift(hours=3)\n",
    "\n",
    "def parse_time_range(time_ranges: str) -> List[DayTimeRange]:\n",
    "    \"\"\"time_ranges like  '00:02-10:05,21:00-23:59' \"\"\"\n",
    "    n = true_now().floor('day')\n",
    "    # 00:02-10:05,21:00-23:59 -> [[00:02, 10:05], [00:02, 10:05]]\n",
    "    intervals = [i.split('-') for i in time_ranges.split(',')]\n",
    "    intervals = [(arrow.get(s,\"HH:mm\"), arrow.get(e,\"HH:mm\")) for (s,e) in intervals]\n",
    "    # get times as shifts from start of the day\n",
    "    intervals = [(n.shift(hours=s.hour, minutes=s.minute), n.shift(hours=e.hour, minutes=e.minute)) for (s, e) in intervals]\n",
    "    # turn it into real ranges\n",
    "    intervals = [DateTimeRange(str(s), str(e)) for (s, e) in intervals]\n",
    "    return intervals\n",
    "    \n",
    "def is_in_time_range(time_ranges: List[DayTimeRange]) -> bool:\n",
    "    n = true_now()\n",
    "    return any(n in tr for tr in time_ranges)\n",
    "\n",
    "schedule = [\n",
    "    ['Mon', '00:01-10:00,22:00-23:59'],\n",
    "    ['Tue', '00:02-10:00,22:00-23:59'], \n",
    "    ['Wed', '00:03-10:00,22:00-23:59'], \n",
    "    ['Thu', '00:04-10:00,22:00-23:59'], \n",
    "    ['Fri', '00:05-10:00,22:00-23:59'], \n",
    "    ['Sat', '00:00-23:59'], \n",
    "    ['Sun', '00:00-23:59'], \n",
    "]\n",
    "\n",
    "schedule_dict = {str_to_weekday(wd): parse_time_range(tr) for (wd, tr) in schedule}\n",
    "schedule_dict[true_now().isoweekday()]\n",
    "# ss = '00:02-10:05,21:00-23:59'\n",
    "# is_in_time_range(parse_time_range(ss))"
   ]
  },
  {
   "cell_type": "code",
   "execution_count": null,
   "metadata": {
    "ExecuteTime": {
     "end_time": "2021-07-09T20:39:08.077251Z",
     "start_time": "2021-07-09T20:39:08.073221Z"
    }
   },
   "outputs": [],
   "source": [
    "str_to_weekday('Sun')"
   ]
  },
  {
   "cell_type": "code",
   "execution_count": null,
   "metadata": {
    "ExecuteTime": {
     "end_time": "2021-07-09T20:46:16.675615Z",
     "start_time": "2021-07-09T20:46:16.668269Z"
    }
   },
   "outputs": [],
   "source": [
    "schedule: List[Tuple[str, str]] = [\n",
    "    ['Mon', '00:01-10:00,22:00-23:59'],\n",
    "    ['Tue', '00:02-10:00,22:00-23:59'], \n",
    "    ['Wed', '00:03-10:00,22:00-23:59'], \n",
    "    ['Thu', '00:04-10:00,22:00-23:59'], \n",
    "    ['Fri', '00:05-10:00,22:00-23:59'], \n",
    "    ['Sat', '00:00-23:59'], \n",
    "    ['Sun', '00:00-23:59'], \n",
    "]"
   ]
  },
  {
   "cell_type": "code",
   "execution_count": null,
   "metadata": {
    "ExecuteTime": {
     "end_time": "2021-07-09T22:18:00.636000Z",
     "start_time": "2021-07-09T22:18:00.633185Z"
    }
   },
   "outputs": [],
   "source": [
    "import subprocess\n",
    "from typing import Set"
   ]
  },
  {
   "cell_type": "code",
   "execution_count": null,
   "metadata": {
    "ExecuteTime": {
     "end_time": "2021-07-09T22:26:14.482388Z",
     "start_time": "2021-07-09T22:26:14.477799Z"
    }
   },
   "outputs": [],
   "source": [
    "bool({'set.difference'})"
   ]
  },
  {
   "cell_type": "code",
   "execution_count": null,
   "metadata": {
    "ExecuteTime": {
     "end_time": "2021-07-09T22:20:05.776680Z",
     "start_time": "2021-07-09T22:20:05.747164Z"
    }
   },
   "outputs": [],
   "source": [
    "WHITE_LIST = {'zakirov', 'rod'}\n",
    "def get_logged_users() -> Set[str]:\n",
    "    all_users = subprocess.run(['users'], stdout=subprocess.PIPE).stdout.decode('utf-8')\n",
    "    unique_users = set(all_users.strip().split(' '))\n",
    "    return unique_users\n",
    "\n",
    "get_logged_users().difference(WHITE_LIST)"
   ]
  },
  {
   "cell_type": "code",
   "execution_count": null,
   "metadata": {
    "ExecuteTime": {
     "end_time": "2021-07-09T21:16:38.896079Z",
     "start_time": "2021-07-09T21:16:38.889735Z"
    }
   },
   "outputs": [],
   "source": [
    "dd = 'sdfasddsafd'\n",
    "d"
   ]
  },
  {
   "cell_type": "code",
   "execution_count": null,
   "metadata": {
    "ExecuteTime": {
     "end_time": "2021-07-09T19:59:42.981265Z",
     "start_time": "2021-07-09T19:59:42.973549Z"
    }
   },
   "outputs": [],
   "source": [
    "from datetimerange import DateTimeRange\n",
    "time_range = DateTimeRange(\"2013-03-22T10:00:00+0900\", \"2015-03-22T10:10:00+0900\")\n",
    "str(time_range)"
   ]
  },
  {
   "cell_type": "code",
   "execution_count": null,
   "metadata": {
    "ExecuteTime": {
     "end_time": "2021-07-09T20:28:08.154488Z",
     "start_time": "2021-07-09T20:28:08.150583Z"
    }
   },
   "outputs": [],
   "source": [
    "n.floor('day')"
   ]
  },
  {
   "cell_type": "code",
   "execution_count": null,
   "metadata": {
    "ExecuteTime": {
     "end_time": "2021-07-09T20:35:45.536414Z",
     "start_time": "2021-07-09T20:35:45.532349Z"
    }
   },
   "outputs": [],
   "source": []
  },
  {
   "cell_type": "code",
   "execution_count": null,
   "metadata": {
    "ExecuteTime": {
     "end_time": "2021-07-09T20:25:52.798223Z",
     "start_time": "2021-07-09T20:25:52.792356Z"
    }
   },
   "outputs": [],
   "source": [
    "type(tr)"
   ]
  },
  {
   "cell_type": "code",
   "execution_count": null,
   "metadata": {
    "ExecuteTime": {
     "end_time": "2021-07-09T20:14:26.818580Z",
     "start_time": "2021-07-09T20:14:26.815348Z"
    }
   },
   "outputs": [],
   "source": [
    "tr = DateTimeRange('14:10', '23:11', start_time_format='%H:%M', end_time_format='%H:%M')"
   ]
  },
  {
   "cell_type": "code",
   "execution_count": null,
   "metadata": {
    "ExecuteTime": {
     "end_time": "2021-07-09T20:14:37.079411Z",
     "start_time": "2021-07-09T20:14:37.075412Z"
    }
   },
   "outputs": [],
   "source": [
    "tr.start_datetime"
   ]
  },
  {
   "cell_type": "code",
   "execution_count": null,
   "metadata": {
    "ExecuteTime": {
     "end_time": "2021-07-09T20:05:00.112997Z",
     "start_time": "2021-07-09T20:05:00.109580Z"
    }
   },
   "outputs": [],
   "source": []
  },
  {
   "cell_type": "code",
   "execution_count": null,
   "metadata": {
    "ExecuteTime": {
     "end_time": "2021-07-09T20:07:32.374109Z",
     "start_time": "2021-07-09T20:07:32.369831Z"
    }
   },
   "outputs": [],
   "source": []
  },
  {
   "cell_type": "code",
   "execution_count": null,
   "metadata": {
    "ExecuteTime": {
     "end_time": "2021-07-09T20:09:46.026763Z",
     "start_time": "2021-07-09T20:09:46.024382Z"
    }
   },
   "outputs": [],
   "source": [
    "import datetime\n",
    "from datetime import datetime as dt"
   ]
  },
  {
   "cell_type": "code",
   "execution_count": null,
   "metadata": {
    "ExecuteTime": {
     "end_time": "2021-07-09T20:09:47.084229Z",
     "start_time": "2021-07-09T20:09:47.077738Z"
    }
   },
   "outputs": [],
   "source": [
    "datetime.timedelta(hours = 10)"
   ]
  },
  {
   "cell_type": "code",
   "execution_count": null,
   "metadata": {
    "ExecuteTime": {
     "end_time": "2021-07-09T20:10:37.947117Z",
     "start_time": "2021-07-09T20:10:37.943206Z"
    }
   },
   "outputs": [],
   "source": [
    "dt.utcnow() + datetime.timedelta(hours=3)"
   ]
  },
  {
   "cell_type": "code",
   "execution_count": null,
   "metadata": {
    "ExecuteTime": {
     "end_time": "2021-07-09T20:10:58.240823Z",
     "start_time": "2021-07-09T20:10:58.229721Z"
    }
   },
   "outputs": [],
   "source": [
    "tr = DateTimeRange('14:10', '23:11', start_time_format='%H:%M', end_time_format='%H:%M')\n",
    "print(tr)\n",
    "dt.now() in tr"
   ]
  },
  {
   "cell_type": "code",
   "execution_count": null,
   "metadata": {
    "ExecuteTime": {
     "end_time": "2021-07-09T20:04:12.499978Z",
     "start_time": "2021-07-09T20:04:12.495417Z"
    }
   },
   "outputs": [],
   "source": [
    "from dataclasses import dataclass\n",
    "\n",
    "# @dataclass\n",
    "# class DayTimeRange:\n",
    "#     isoweekday: int\n",
    "#     some: float = 1.\n",
    "        \n"
   ]
  },
  {
   "cell_type": "code",
   "execution_count": null,
   "metadata": {
    "ExecuteTime": {
     "end_time": "2021-07-09T20:02:18.343425Z",
     "start_time": "2021-07-09T20:02:18.336744Z"
    }
   },
   "outputs": [],
   "source": [
    "st = arrow.get('12:32', 'HH:mm')"
   ]
  },
  {
   "cell_type": "code",
   "execution_count": null,
   "metadata": {
    "ExecuteTime": {
     "end_time": "2021-07-09T20:02:18.982862Z",
     "start_time": "2021-07-09T20:02:18.978030Z"
    }
   },
   "outputs": [],
   "source": [
    "fd = arrow.utcnow().floor('day')"
   ]
  },
  {
   "cell_type": "code",
   "execution_count": null,
   "metadata": {
    "ExecuteTime": {
     "end_time": "2021-07-09T20:02:19.274468Z",
     "start_time": "2021-07-09T20:02:19.270716Z"
    }
   },
   "outputs": [],
   "source": [
    "fd.shift(hours=st.hour, minutes=st.minute)"
   ]
  },
  {
   "cell_type": "code",
   "execution_count": null,
   "metadata": {
    "ExecuteTime": {
     "end_time": "2021-07-09T19:59:43.447576Z",
     "start_time": "2021-07-09T19:59:43.442565Z"
    }
   },
   "outputs": [],
   "source": [
    "dt = arrow.get('2013-05-05 12:30:45', 'YYYY-MM-DD HH:mm:ss').datetime"
   ]
  },
  {
   "cell_type": "code",
   "execution_count": null,
   "metadata": {
    "ExecuteTime": {
     "end_time": "2021-07-09T19:59:43.787375Z",
     "start_time": "2021-07-09T19:59:43.781475Z"
    }
   },
   "outputs": [],
   "source": [
    "dt in time_range"
   ]
  },
  {
   "cell_type": "code",
   "execution_count": null,
   "metadata": {
    "ExecuteTime": {
     "end_time": "2021-07-09T19:59:10.395772Z",
     "start_time": "2021-07-09T19:59:10.390516Z"
    }
   },
   "outputs": [],
   "source": [
    "time_range"
   ]
  },
  {
   "cell_type": "raw",
   "metadata": {
    "ExecuteTime": {
     "end_time": "2021-07-09T19:21:16.650316Z",
     "start_time": "2021-07-09T19:21:02.201077Z"
    }
   },
   "source": [
    "!pip install arrow"
   ]
  },
  {
   "cell_type": "code",
   "execution_count": null,
   "metadata": {
    "ExecuteTime": {
     "end_time": "2021-07-09T19:21:22.291548Z",
     "start_time": "2021-07-09T19:21:22.254137Z"
    }
   },
   "outputs": [],
   "source": [
    "import arrow"
   ]
  },
  {
   "cell_type": "code",
   "execution_count": null,
   "metadata": {
    "ExecuteTime": {
     "end_time": "2021-07-09T19:27:48.725127Z",
     "start_time": "2021-07-09T19:27:48.720340Z"
    }
   },
   "outputs": [],
   "source": [
    "arrow.get('2013-05-05 12:30:45', 'YYYY-MM-DD HH:mm:ss')\n"
   ]
  },
  {
   "cell_type": "code",
   "execution_count": null,
   "metadata": {
    "ExecuteTime": {
     "end_time": "2021-07-09T19:38:50.601798Z",
     "start_time": "2021-07-09T19:38:50.597189Z"
    }
   },
   "outputs": [],
   "source": [
    "arrow.get('02:00', \"HH:mm\").datetime"
   ]
  },
  {
   "cell_type": "code",
   "execution_count": null,
   "metadata": {},
   "outputs": [],
   "source": []
  },
  {
   "cell_type": "code",
   "execution_count": null,
   "metadata": {
    "ExecuteTime": {
     "end_time": "2021-07-09T19:29:44.022997Z",
     "start_time": "2021-07-09T19:29:44.016258Z"
    }
   },
   "outputs": [],
   "source": [
    "a = arrow.utcnow()\n",
    "a"
   ]
  },
  {
   "cell_type": "code",
   "execution_count": null,
   "metadata": {},
   "outputs": [],
   "source": [
    "arrow.Arrow."
   ]
  },
  {
   "cell_type": "code",
   "execution_count": null,
   "metadata": {
    "ExecuteTime": {
     "end_time": "2021-07-09T19:57:04.441190Z",
     "start_time": "2021-07-09T19:57:04.433960Z"
    }
   },
   "outputs": [],
   "source": [
    "arrow.Arrow.range('minute', start, end)"
   ]
  },
  {
   "cell_type": "code",
   "execution_count": null,
   "metadata": {
    "ExecuteTime": {
     "end_time": "2021-07-09T19:56:56.645065Z",
     "start_time": "2021-07-09T19:56:56.621560Z"
    }
   },
   "outputs": [],
   "source": [
    "start = datetime(2013, 5, 5, 12, 30)\n",
    "end = datetime(2013, 5, 5, 17, 15)\n",
    "for r in arrow.Arrow.range('minute', start, end):\n",
    "    print(r)\n"
   ]
  },
  {
   "cell_type": "code",
   "execution_count": null,
   "metadata": {
    "ExecuteTime": {
     "end_time": "2021-07-09T19:55:55.496283Z",
     "start_time": "2021-07-09T19:55:50.528818Z"
    }
   },
   "outputs": [],
   "source": [
    "!pip install datetimerange"
   ]
  },
  {
   "cell_type": "code",
   "execution_count": null,
   "metadata": {
    "ExecuteTime": {
     "end_time": "2021-07-09T19:51:09.176367Z",
     "start_time": "2021-07-09T19:51:09.162405Z"
    }
   },
   "outputs": [],
   "source": [
    "class"
   ]
  },
  {
   "cell_type": "code",
   "execution_count": null,
   "metadata": {
    "ExecuteTime": {
     "end_time": "2021-07-09T19:53:39.223474Z",
     "start_time": "2021-07-09T19:53:39.219853Z"
    }
   },
   "outputs": [],
   "source": [
    "now = arrow.utcnow().shift(hours=3)\n",
    "now.isoweekday()"
   ]
  },
  {
   "cell_type": "code",
   "execution_count": null,
   "metadata": {},
   "outputs": [],
   "source": [
    "ss = 'Mon 00:00-10:00,22:00-23:59'\n",
    "ss."
   ]
  },
  {
   "cell_type": "code",
   "execution_count": null,
   "metadata": {
    "ExecuteTime": {
     "end_time": "2021-07-09T19:49:16.813045Z",
     "start_time": "2021-07-09T19:49:16.806626Z"
    }
   },
   "outputs": [],
   "source": [
    "arrow.get(\"Mon\", \"ddd\").datetime.isoweekday()"
   ]
  },
  {
   "cell_type": "code",
   "execution_count": null,
   "metadata": {
    "ExecuteTime": {
     "end_time": "2021-07-09T19:39:16.323529Z",
     "start_time": "2021-07-09T19:39:16.317498Z"
    }
   },
   "outputs": [],
   "source": [
    "arrow.get('00:00', \"HH:mm\") - arrow.get('02:00', \"HH:mm\")"
   ]
  },
  {
   "cell_type": "code",
   "execution_count": null,
   "metadata": {
    "ExecuteTime": {
     "end_time": "2021-07-09T19:16:15.312696Z",
     "start_time": "2021-07-09T19:16:15.305445Z"
    }
   },
   "outputs": [],
   "source": []
  },
  {
   "cell_type": "code",
   "execution_count": null,
   "metadata": {
    "ExecuteTime": {
     "end_time": "2021-07-09T18:40:19.948271Z",
     "start_time": "2021-07-09T18:40:19.887983Z"
    }
   },
   "outputs": [],
   "source": [
    "gpus_util = [i.gpu_util for i in nvsmi.get_gpus()]\n",
    "[idx for idx, util in enumerate(gpus_util) if util == 0]\n"
   ]
  },
  {
   "cell_type": "code",
   "execution_count": null,
   "metadata": {
    "ExecuteTime": {
     "end_time": "2021-07-09T18:39:57.127642Z",
     "start_time": "2021-07-09T18:39:57.069336Z"
    }
   },
   "outputs": [],
   "source": [
    "ss = list(nvsmi.get_gpus())\n",
    "ss[0]"
   ]
  },
  {
   "cell_type": "code",
   "execution_count": null,
   "metadata": {
    "ExecuteTime": {
     "end_time": "2021-07-09T18:33:25.523802Z",
     "start_time": "2021-07-09T18:33:24.572769Z"
    }
   },
   "outputs": [],
   "source": [
    "!nvidia-smi"
   ]
  },
  {
   "cell_type": "code",
   "execution_count": null,
   "metadata": {
    "ExecuteTime": {
     "end_time": "2021-07-09T18:31:07.722073Z",
     "start_time": "2021-07-09T18:31:07.677970Z"
    }
   },
   "outputs": [],
   "source": [
    "# def get_free_gpus():\n",
    "res = sp.run(\"nvidia-smi --query-gpu=utilization.gpu --format=csv\", shell=True, stdout=sp.PIPE)\n",
    "res = res.stdout.decode(\"utf-8\").split('\\n')[1:]\n",
    "res"
   ]
  },
  {
   "cell_type": "code",
   "execution_count": null,
   "metadata": {},
   "outputs": [],
   "source": []
  }
 ],
 "metadata": {
  "kernelspec": {
   "display_name": "Python 3",
   "language": "python",
   "name": "python3"
  },
  "language_info": {
   "codemirror_mode": {
    "name": "ipython",
    "version": 3
   },
   "file_extension": ".py",
   "mimetype": "text/x-python",
   "name": "python",
   "nbconvert_exporter": "python",
   "pygments_lexer": "ipython3",
   "version": "3.8.5"
  },
  "varInspector": {
   "cols": {
    "lenName": 16,
    "lenType": 16,
    "lenVar": 40
   },
   "kernels_config": {
    "python": {
     "delete_cmd_postfix": "",
     "delete_cmd_prefix": "del ",
     "library": "var_list.py",
     "varRefreshCmd": "print(var_dic_list())"
    },
    "r": {
     "delete_cmd_postfix": ") ",
     "delete_cmd_prefix": "rm(",
     "library": "var_list.r",
     "varRefreshCmd": "cat(var_dic_list()) "
    }
   },
   "types_to_exclude": [
    "module",
    "function",
    "builtin_function_or_method",
    "instance",
    "_Feature"
   ],
   "window_display": false
  }
 },
 "nbformat": 4,
 "nbformat_minor": 4
}
